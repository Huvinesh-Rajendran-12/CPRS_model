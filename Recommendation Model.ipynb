{
 "cells": [
  {
   "cell_type": "code",
   "execution_count": 1,
   "metadata": {},
   "outputs": [],
   "source": [
    "import pandas as pd\n",
    "import numpy as np\n",
    "import nltk\n",
    "import matplotlib.pyplot as plt\n",
    "import seaborn as sns\n",
    "%matplotlib inline\n",
    "from nltk.corpus import stopwords\n",
    "import re\n",
    "import string\n",
    "from nltk.stem import WordNetLemmatizer\n",
    "from nltk import word_tokenize\n",
    "from nltk.corpus import stopwords\n",
    "from sklearn.feature_extraction.text import TfidfVectorizer\n",
    "from sklearn.metrics.pairwise import cosine_similarity\n",
    "from sklearn.feature_extraction.text import CountVectorizer\n",
    "from sklearn.neighbors import NearestNeighbors"
   ]
  },
  {
   "cell_type": "code",
   "execution_count": 2,
   "metadata": {},
   "outputs": [],
   "source": [
    "client_data = pd.read_csv('./data/clients.csv')\n",
    "student_data = pd.read_csv('./data/fyp_students_datasets.csv')"
   ]
  },
  {
   "cell_type": "code",
   "execution_count": 3,
   "metadata": {},
   "outputs": [
    {
     "data": {
      "text/html": [
       "<div>\n",
       "<style scoped>\n",
       "    .dataframe tbody tr th:only-of-type {\n",
       "        vertical-align: middle;\n",
       "    }\n",
       "\n",
       "    .dataframe tbody tr th {\n",
       "        vertical-align: top;\n",
       "    }\n",
       "\n",
       "    .dataframe thead th {\n",
       "        text-align: right;\n",
       "    }\n",
       "</style>\n",
       "<table border=\"1\" class=\"dataframe\">\n",
       "  <thead>\n",
       "    <tr style=\"text-align: right;\">\n",
       "      <th></th>\n",
       "      <th>Company Name</th>\n",
       "      <th>Title</th>\n",
       "      <th>Project brief</th>\n",
       "      <th>Project Background</th>\n",
       "      <th>Requiements</th>\n",
       "    </tr>\n",
       "  </thead>\n",
       "  <tbody>\n",
       "    <tr>\n",
       "      <th>0</th>\n",
       "      <td>ATX</td>\n",
       "      <td>ATX Software Testing Suite</td>\n",
       "      <td>Automated testing suite for all software produ...</td>\n",
       "      <td>This project will focus on graphical user inte...</td>\n",
       "      <td>Generates user interface events and observes t...</td>\n",
       "    </tr>\n",
       "    <tr>\n",
       "      <th>1</th>\n",
       "      <td>NaN</td>\n",
       "      <td>Prediction on Obesity associates with Lifestyl...</td>\n",
       "      <td>Identify the effective indicators of obesity b...</td>\n",
       "      <td>The main objective of the present study is to ...</td>\n",
       "      <td>To propose the features in determining obesity...</td>\n",
       "    </tr>\n",
       "    <tr>\n",
       "      <th>2</th>\n",
       "      <td>NaN</td>\n",
       "      <td>Mobile Advertising Platform with Designing Sui...</td>\n",
       "      <td>To improve employee communications and engagem...</td>\n",
       "      <td>The goal of the project is to create a mobile ...</td>\n",
       "      <td>to provide direct communications on employment...</td>\n",
       "    </tr>\n",
       "  </tbody>\n",
       "</table>\n",
       "</div>"
      ],
      "text/plain": [
       "  Company Name                                              Title  \\\n",
       "0          ATX                         ATX Software Testing Suite   \n",
       "1          NaN  Prediction on Obesity associates with Lifestyl...   \n",
       "2          NaN  Mobile Advertising Platform with Designing Sui...   \n",
       "\n",
       "                                      Project brief   \\\n",
       "0  Automated testing suite for all software produ...   \n",
       "1  Identify the effective indicators of obesity b...   \n",
       "2  To improve employee communications and engagem...   \n",
       "\n",
       "                                  Project Background  \\\n",
       "0  This project will focus on graphical user inte...   \n",
       "1  The main objective of the present study is to ...   \n",
       "2  The goal of the project is to create a mobile ...   \n",
       "\n",
       "                                         Requiements  \n",
       "0  Generates user interface events and observes t...  \n",
       "1  To propose the features in determining obesity...  \n",
       "2  to provide direct communications on employment...  "
      ]
     },
     "execution_count": 3,
     "metadata": {},
     "output_type": "execute_result"
    }
   ],
   "source": [
    "client_data.head(3)"
   ]
  },
  {
   "cell_type": "code",
   "execution_count": 4,
   "metadata": {},
   "outputs": [
    {
     "data": {
      "text/html": [
       "<div>\n",
       "<style scoped>\n",
       "    .dataframe tbody tr th:only-of-type {\n",
       "        vertical-align: middle;\n",
       "    }\n",
       "\n",
       "    .dataframe tbody tr th {\n",
       "        vertical-align: top;\n",
       "    }\n",
       "\n",
       "    .dataframe thead th {\n",
       "        text-align: right;\n",
       "    }\n",
       "</style>\n",
       "<table border=\"1\" class=\"dataframe\">\n",
       "  <thead>\n",
       "    <tr style=\"text-align: right;\">\n",
       "      <th></th>\n",
       "      <th>Group No.</th>\n",
       "      <th>Unnamed: 1</th>\n",
       "      <th>Title</th>\n",
       "      <th>Supervsior</th>\n",
       "      <th>Met with supervisor?</th>\n",
       "      <th>Preferred name on the  CASUGOL certificate</th>\n",
       "      <th>FULL NAME As your IC/Passport</th>\n",
       "      <th>CV sent\\n(Y/N)</th>\n",
       "      <th>Program</th>\n",
       "      <th>Areas of Interest and your technical strength</th>\n",
       "      <th>...</th>\n",
       "      <th>Leader / Member</th>\n",
       "      <th>Email ADD</th>\n",
       "      <th>SD EMAIL</th>\n",
       "      <th>Contact No</th>\n",
       "      <th>Semester</th>\n",
       "      <th>Check Study Plan: Capstone 2 is it JAN-FEB</th>\n",
       "      <th>CGPA</th>\n",
       "      <th>GPA</th>\n",
       "      <th>Industry - Contact Point</th>\n",
       "      <th>Company</th>\n",
       "    </tr>\n",
       "  </thead>\n",
       "  <tbody>\n",
       "    <tr>\n",
       "      <th>0</th>\n",
       "      <td>1.0</td>\n",
       "      <td>1.0</td>\n",
       "      <td>A Trust Index Model to Detect Fake News in Soc...</td>\n",
       "      <td>Mr. Tee Wee Jing</td>\n",
       "      <td>Yes</td>\n",
       "      <td>Nicholas Ryan Farm</td>\n",
       "      <td>Nicholas Ryan Farm</td>\n",
       "      <td>Yes</td>\n",
       "      <td>Bachelor of Computer Science</td>\n",
       "      <td>Full Stack Web Development, Project Management...</td>\n",
       "      <td>...</td>\n",
       "      <td>Leader</td>\n",
       "      <td>nicholasfarm27@gmail.com</td>\n",
       "      <td>nicholasryan.farm@sd.taylors.edu.my</td>\n",
       "      <td>019-4549277</td>\n",
       "      <td>Sem 4</td>\n",
       "      <td>Yes</td>\n",
       "      <td>3.94</td>\n",
       "      <td>3.50</td>\n",
       "      <td>NaN</td>\n",
       "      <td>ProximaX</td>\n",
       "    </tr>\n",
       "    <tr>\n",
       "      <th>1</th>\n",
       "      <td>NaN</td>\n",
       "      <td>2.0</td>\n",
       "      <td>NaN</td>\n",
       "      <td>NaN</td>\n",
       "      <td>NaN</td>\n",
       "      <td>Gan Zheng Jie</td>\n",
       "      <td>Gan Zheng Jie</td>\n",
       "      <td>Yes</td>\n",
       "      <td>Bachelor of Software Engineering</td>\n",
       "      <td>Full stack mobile application development, Dat...</td>\n",
       "      <td>...</td>\n",
       "      <td>Member</td>\n",
       "      <td>ganzj45@gmail.com</td>\n",
       "      <td>zhengjie.gan@sd.taylors.edu.my</td>\n",
       "      <td>017-5015966</td>\n",
       "      <td>Sem 5</td>\n",
       "      <td>Yes</td>\n",
       "      <td>3.85</td>\n",
       "      <td>3.78</td>\n",
       "      <td>NaN</td>\n",
       "      <td>NaN</td>\n",
       "    </tr>\n",
       "    <tr>\n",
       "      <th>2</th>\n",
       "      <td>NaN</td>\n",
       "      <td>3.0</td>\n",
       "      <td>NaN</td>\n",
       "      <td>NaN</td>\n",
       "      <td>NaN</td>\n",
       "      <td>Low Yee Yieng</td>\n",
       "      <td>Low Yee Yieng</td>\n",
       "      <td>Yes</td>\n",
       "      <td>Bachelor of Software Engineering</td>\n",
       "      <td>IT Analysis, Web/Mobile App Development, UI/UX...</td>\n",
       "      <td>...</td>\n",
       "      <td>Member</td>\n",
       "      <td>lyeeyieng@gmail.com</td>\n",
       "      <td>yeeyieng.low@sd.taylors.edu.my</td>\n",
       "      <td>010-2776323</td>\n",
       "      <td>Sem 5</td>\n",
       "      <td>Yes</td>\n",
       "      <td>3.87</td>\n",
       "      <td>3.75</td>\n",
       "      <td>NaN</td>\n",
       "      <td>NaN</td>\n",
       "    </tr>\n",
       "    <tr>\n",
       "      <th>3</th>\n",
       "      <td>NaN</td>\n",
       "      <td>4.0</td>\n",
       "      <td>NaN</td>\n",
       "      <td>NaN</td>\n",
       "      <td>NaN</td>\n",
       "      <td>Sachin Vijaya Kumar</td>\n",
       "      <td>Saachin Vijaya Kumar</td>\n",
       "      <td>Yes</td>\n",
       "      <td>Bachelor of Computer Science</td>\n",
       "      <td>Front-end development, UI/UX Design, Data Anal...</td>\n",
       "      <td>...</td>\n",
       "      <td>Member</td>\n",
       "      <td>taylorssvk@gmail.com</td>\n",
       "      <td>saachin.vijayakumar@sd.taylors.edu.my</td>\n",
       "      <td>018-3137551</td>\n",
       "      <td>Sem 5</td>\n",
       "      <td>Yes</td>\n",
       "      <td>3.59</td>\n",
       "      <td>3.67</td>\n",
       "      <td>NaN</td>\n",
       "      <td>NaN</td>\n",
       "    </tr>\n",
       "  </tbody>\n",
       "</table>\n",
       "<p>4 rows × 21 columns</p>\n",
       "</div>"
      ],
      "text/plain": [
       "     Group No.  Unnamed: 1                                              Title  \\\n",
       "0          1.0         1.0  A Trust Index Model to Detect Fake News in Soc...   \n",
       "1          NaN         2.0                                                NaN   \n",
       "2          NaN         3.0                                                NaN   \n",
       "3          NaN         4.0                                                NaN   \n",
       "\n",
       "         Supervsior Met with supervisor?  \\\n",
       "0  Mr. Tee Wee Jing                  Yes   \n",
       "1               NaN                  NaN   \n",
       "2               NaN                  NaN   \n",
       "3               NaN                  NaN   \n",
       "\n",
       "  Preferred name on the  CASUGOL certificate FULL NAME As your IC/Passport  \\\n",
       "0                         Nicholas Ryan Farm            Nicholas Ryan Farm   \n",
       "1                              Gan Zheng Jie                 Gan Zheng Jie   \n",
       "2                              Low Yee Yieng                 Low Yee Yieng   \n",
       "3                        Sachin Vijaya Kumar          Saachin Vijaya Kumar   \n",
       "\n",
       "  CV sent\\n(Y/N)                           Program   \\\n",
       "0            Yes       Bachelor of Computer Science   \n",
       "1            Yes  Bachelor of Software Engineering    \n",
       "2            Yes  Bachelor of Software Engineering    \n",
       "3            Yes       Bachelor of Computer Science   \n",
       "\n",
       "       Areas of Interest and your technical strength  ... Leader / Member  \\\n",
       "0  Full Stack Web Development, Project Management...  ...          Leader   \n",
       "1  Full stack mobile application development, Dat...  ...          Member   \n",
       "2  IT Analysis, Web/Mobile App Development, UI/UX...  ...          Member   \n",
       "3  Front-end development, UI/UX Design, Data Anal...  ...          Member   \n",
       "\n",
       "                  Email ADD                               SD EMAIL  \\\n",
       "0  nicholasfarm27@gmail.com    nicholasryan.farm@sd.taylors.edu.my   \n",
       "1         ganzj45@gmail.com         zhengjie.gan@sd.taylors.edu.my   \n",
       "2       lyeeyieng@gmail.com         yeeyieng.low@sd.taylors.edu.my   \n",
       "3      taylorssvk@gmail.com  saachin.vijayakumar@sd.taylors.edu.my   \n",
       "\n",
       "    Contact No Semester Check Study Plan: Capstone 2 is it JAN-FEB  CGPA  \\\n",
       "0  019-4549277    Sem 4                                        Yes  3.94   \n",
       "1  017-5015966    Sem 5                                        Yes  3.85   \n",
       "2  010-2776323    Sem 5                                        Yes  3.87   \n",
       "3  018-3137551    Sem 5                                        Yes  3.59   \n",
       "\n",
       "    GPA  Industry - Contact Point    Company  \n",
       "0  3.50                        NaN  ProximaX  \n",
       "1  3.78                        NaN       NaN  \n",
       "2  3.75                        NaN       NaN  \n",
       "3  3.67                        NaN       NaN  \n",
       "\n",
       "[4 rows x 21 columns]"
      ]
     },
     "execution_count": 4,
     "metadata": {},
     "output_type": "execute_result"
    }
   ],
   "source": [
    "student_data.head(4)"
   ]
  },
  {
   "cell_type": "markdown",
   "metadata": {},
   "source": [
    "# Exploratory Data Analysis"
   ]
  },
  {
   "cell_type": "code",
   "execution_count": 5,
   "metadata": {},
   "outputs": [],
   "source": [
    "client_data['Requirements'] = client_data['Project brief '].map(str) + ' ' + client_data['Project Background']+' '+client_data['Requiements']"
   ]
  },
  {
   "cell_type": "code",
   "execution_count": 6,
   "metadata": {},
   "outputs": [
    {
     "data": {
      "text/html": [
       "<div>\n",
       "<style scoped>\n",
       "    .dataframe tbody tr th:only-of-type {\n",
       "        vertical-align: middle;\n",
       "    }\n",
       "\n",
       "    .dataframe tbody tr th {\n",
       "        vertical-align: top;\n",
       "    }\n",
       "\n",
       "    .dataframe thead th {\n",
       "        text-align: right;\n",
       "    }\n",
       "</style>\n",
       "<table border=\"1\" class=\"dataframe\">\n",
       "  <thead>\n",
       "    <tr style=\"text-align: right;\">\n",
       "      <th></th>\n",
       "      <th>Company Name</th>\n",
       "      <th>Title</th>\n",
       "      <th>Project brief</th>\n",
       "      <th>Project Background</th>\n",
       "      <th>Requiements</th>\n",
       "      <th>Requirements</th>\n",
       "    </tr>\n",
       "  </thead>\n",
       "  <tbody>\n",
       "    <tr>\n",
       "      <th>0</th>\n",
       "      <td>ATX</td>\n",
       "      <td>ATX Software Testing Suite</td>\n",
       "      <td>Automated testing suite for all software produ...</td>\n",
       "      <td>This project will focus on graphical user inte...</td>\n",
       "      <td>Generates user interface events and observes t...</td>\n",
       "      <td>Automated testing suite for all software produ...</td>\n",
       "    </tr>\n",
       "    <tr>\n",
       "      <th>1</th>\n",
       "      <td>NaN</td>\n",
       "      <td>Prediction on Obesity associates with Lifestyl...</td>\n",
       "      <td>Identify the effective indicators of obesity b...</td>\n",
       "      <td>The main objective of the present study is to ...</td>\n",
       "      <td>To propose the features in determining obesity...</td>\n",
       "      <td>Identify the effective indicators of obesity b...</td>\n",
       "    </tr>\n",
       "    <tr>\n",
       "      <th>2</th>\n",
       "      <td>NaN</td>\n",
       "      <td>Mobile Advertising Platform with Designing Sui...</td>\n",
       "      <td>To improve employee communications and engagem...</td>\n",
       "      <td>The goal of the project is to create a mobile ...</td>\n",
       "      <td>to provide direct communications on employment...</td>\n",
       "      <td>To improve employee communications and engagem...</td>\n",
       "    </tr>\n",
       "  </tbody>\n",
       "</table>\n",
       "</div>"
      ],
      "text/plain": [
       "  Company Name                                              Title  \\\n",
       "0          ATX                         ATX Software Testing Suite   \n",
       "1          NaN  Prediction on Obesity associates with Lifestyl...   \n",
       "2          NaN  Mobile Advertising Platform with Designing Sui...   \n",
       "\n",
       "                                      Project brief   \\\n",
       "0  Automated testing suite for all software produ...   \n",
       "1  Identify the effective indicators of obesity b...   \n",
       "2  To improve employee communications and engagem...   \n",
       "\n",
       "                                  Project Background  \\\n",
       "0  This project will focus on graphical user inte...   \n",
       "1  The main objective of the present study is to ...   \n",
       "2  The goal of the project is to create a mobile ...   \n",
       "\n",
       "                                         Requiements  \\\n",
       "0  Generates user interface events and observes t...   \n",
       "1  To propose the features in determining obesity...   \n",
       "2  to provide direct communications on employment...   \n",
       "\n",
       "                                        Requirements  \n",
       "0  Automated testing suite for all software produ...  \n",
       "1  Identify the effective indicators of obesity b...  \n",
       "2  To improve employee communications and engagem...  "
      ]
     },
     "execution_count": 6,
     "metadata": {},
     "output_type": "execute_result"
    }
   ],
   "source": [
    "client_data.head(3)\n"
   ]
  },
  {
   "cell_type": "code",
   "execution_count": 7,
   "metadata": {},
   "outputs": [],
   "source": [
    "client_data = client_data.drop(['Requiements'],axis=1)"
   ]
  },
  {
   "cell_type": "code",
   "execution_count": 8,
   "metadata": {},
   "outputs": [],
   "source": [
    "client_data = client_data.fillna(' ')"
   ]
  },
  {
   "cell_type": "code",
   "execution_count": 9,
   "metadata": {},
   "outputs": [
    {
     "data": {
      "text/html": [
       "<div>\n",
       "<style scoped>\n",
       "    .dataframe tbody tr th:only-of-type {\n",
       "        vertical-align: middle;\n",
       "    }\n",
       "\n",
       "    .dataframe tbody tr th {\n",
       "        vertical-align: top;\n",
       "    }\n",
       "\n",
       "    .dataframe thead th {\n",
       "        text-align: right;\n",
       "    }\n",
       "</style>\n",
       "<table border=\"1\" class=\"dataframe\">\n",
       "  <thead>\n",
       "    <tr style=\"text-align: right;\">\n",
       "      <th></th>\n",
       "      <th>Company Name</th>\n",
       "      <th>Title</th>\n",
       "      <th>Project brief</th>\n",
       "      <th>Project Background</th>\n",
       "      <th>Requirements</th>\n",
       "    </tr>\n",
       "  </thead>\n",
       "  <tbody>\n",
       "    <tr>\n",
       "      <th>0</th>\n",
       "      <td>ATX</td>\n",
       "      <td>ATX Software Testing Suite</td>\n",
       "      <td>Automated testing suite for all software produ...</td>\n",
       "      <td>This project will focus on graphical user inte...</td>\n",
       "      <td>Automated testing suite for all software produ...</td>\n",
       "    </tr>\n",
       "    <tr>\n",
       "      <th>1</th>\n",
       "      <td></td>\n",
       "      <td>Prediction on Obesity associates with Lifestyl...</td>\n",
       "      <td>Identify the effective indicators of obesity b...</td>\n",
       "      <td>The main objective of the present study is to ...</td>\n",
       "      <td>Identify the effective indicators of obesity b...</td>\n",
       "    </tr>\n",
       "    <tr>\n",
       "      <th>2</th>\n",
       "      <td></td>\n",
       "      <td>Mobile Advertising Platform with Designing Sui...</td>\n",
       "      <td>To improve employee communications and engagem...</td>\n",
       "      <td>The goal of the project is to create a mobile ...</td>\n",
       "      <td>To improve employee communications and engagem...</td>\n",
       "    </tr>\n",
       "    <tr>\n",
       "      <th>3</th>\n",
       "      <td>PurposePurchase Sdh Bhd</td>\n",
       "      <td>PurposePurchase</td>\n",
       "      <td>\\ncause-related ecommerce app, as well as a pl...</td>\n",
       "      <td>PurposePurchase is an online e-commerce platfo...</td>\n",
       "      <td>\\ncause-related ecommerce app, as well as a pl...</td>\n",
       "    </tr>\n",
       "    <tr>\n",
       "      <th>4</th>\n",
       "      <td></td>\n",
       "      <td>Educational Game</td>\n",
       "      <td>The aim of this project is to create an educat...</td>\n",
       "      <td>The students will be given a concept document,...</td>\n",
       "      <td>The aim of this project is to create an educat...</td>\n",
       "    </tr>\n",
       "  </tbody>\n",
       "</table>\n",
       "</div>"
      ],
      "text/plain": [
       "              Company Name                                              Title  \\\n",
       "0                      ATX                         ATX Software Testing Suite   \n",
       "1                           Prediction on Obesity associates with Lifestyl...   \n",
       "2                           Mobile Advertising Platform with Designing Sui...   \n",
       "3  PurposePurchase Sdh Bhd                                    PurposePurchase   \n",
       "4                                                           Educational Game    \n",
       "\n",
       "                                      Project brief   \\\n",
       "0  Automated testing suite for all software produ...   \n",
       "1  Identify the effective indicators of obesity b...   \n",
       "2  To improve employee communications and engagem...   \n",
       "3  \\ncause-related ecommerce app, as well as a pl...   \n",
       "4  The aim of this project is to create an educat...   \n",
       "\n",
       "                                  Project Background  \\\n",
       "0  This project will focus on graphical user inte...   \n",
       "1  The main objective of the present study is to ...   \n",
       "2  The goal of the project is to create a mobile ...   \n",
       "3  PurposePurchase is an online e-commerce platfo...   \n",
       "4  The students will be given a concept document,...   \n",
       "\n",
       "                                        Requirements  \n",
       "0  Automated testing suite for all software produ...  \n",
       "1  Identify the effective indicators of obesity b...  \n",
       "2  To improve employee communications and engagem...  \n",
       "3  \\ncause-related ecommerce app, as well as a pl...  \n",
       "4  The aim of this project is to create an educat...  "
      ]
     },
     "execution_count": 9,
     "metadata": {},
     "output_type": "execute_result"
    }
   ],
   "source": [
    "client_data.head()"
   ]
  },
  {
   "cell_type": "code",
   "execution_count": 10,
   "metadata": {},
   "outputs": [
    {
     "data": {
      "text/plain": [
       "(25, 5)"
      ]
     },
     "execution_count": 10,
     "metadata": {},
     "output_type": "execute_result"
    }
   ],
   "source": [
    "client_data.shape"
   ]
  },
  {
   "cell_type": "code",
   "execution_count": 11,
   "metadata": {},
   "outputs": [],
   "source": [
    "stopwords_ = stopwords.words('english')\n",
    "stopword_ = set(stopwords.words('english'))\n",
    "wn = WordNetLemmatizer()"
   ]
  },
  {
   "cell_type": "code",
   "execution_count": 12,
   "metadata": {},
   "outputs": [],
   "source": [
    "# Create word tokens\n",
    "def token_txt(token):\n",
    "    return token not in stopword_ and token not in list(string.punctuation) and len(token) > 2   \n",
    "  "
   ]
  },
  {
   "cell_type": "code",
   "execution_count": 13,
   "metadata": {},
   "outputs": [],
   "source": [
    "def clean_txt(text):\n",
    "  clean_text = []\n",
    "  clean_text2 = []\n",
    "  text = re.sub(\"'\", \"\", text)\n",
    "  text = re.sub(\"(\\\\d|\\\\W)+\", \" \", text) \n",
    "  text = text.replace(\"nbsp\", \"\")\n",
    "  clean_text = [wn.lemmatize(word, pos = \"v\") for word in word_tokenize(text.lower()) if token_txt(word)]\n",
    "  clean_text2 = [word for word in clean_text if token_txt(word)]\n",
    "  return \" \".join(clean_text2)"
   ]
  },
  {
   "cell_type": "code",
   "execution_count": 14,
   "metadata": {},
   "outputs": [],
   "source": [
    "client_data['Requirements'] = client_data['Requirements'].apply(clean_txt)"
   ]
  },
  {
   "cell_type": "code",
   "execution_count": 15,
   "metadata": {},
   "outputs": [
    {
     "data": {
      "text/html": [
       "<div>\n",
       "<style scoped>\n",
       "    .dataframe tbody tr th:only-of-type {\n",
       "        vertical-align: middle;\n",
       "    }\n",
       "\n",
       "    .dataframe tbody tr th {\n",
       "        vertical-align: top;\n",
       "    }\n",
       "\n",
       "    .dataframe thead th {\n",
       "        text-align: right;\n",
       "    }\n",
       "</style>\n",
       "<table border=\"1\" class=\"dataframe\">\n",
       "  <thead>\n",
       "    <tr style=\"text-align: right;\">\n",
       "      <th></th>\n",
       "      <th>Company Name</th>\n",
       "      <th>Title</th>\n",
       "      <th>Project brief</th>\n",
       "      <th>Project Background</th>\n",
       "      <th>Requirements</th>\n",
       "    </tr>\n",
       "  </thead>\n",
       "  <tbody>\n",
       "    <tr>\n",
       "      <th>20</th>\n",
       "      <td></td>\n",
       "      <td></td>\n",
       "      <td></td>\n",
       "      <td></td>\n",
       "      <td></td>\n",
       "    </tr>\n",
       "    <tr>\n",
       "      <th>21</th>\n",
       "      <td>Agensi Pekerjaan &amp; Latihan TAPRO Sdn Bhd</td>\n",
       "      <td>(CRM) tool for recruitment.</td>\n",
       "      <td>Currently, selected information of the candida...</td>\n",
       "      <td>Aim to build a CRM tool for recruitment</td>\n",
       "      <td>currently select information candidates extrac...</td>\n",
       "    </tr>\n",
       "    <tr>\n",
       "      <th>22</th>\n",
       "      <td>People Systems Consultancy Sdn Bhd</td>\n",
       "      <td>App to build Financial Inclusion and Intellige...</td>\n",
       "      <td>Build the financial resilience and intelligenc...</td>\n",
       "      <td>seeking support and assistance to: \\n(a) build...</td>\n",
       "      <td>build financial resilience intelligence differ...</td>\n",
       "    </tr>\n",
       "    <tr>\n",
       "      <th>23</th>\n",
       "      <td></td>\n",
       "      <td>Statistics: Zero to Hundred</td>\n",
       "      <td>In the world of education, e-learning platform...</td>\n",
       "      <td>The aim of this project is to create an e-lear...</td>\n",
       "      <td>world education learn platform essential make ...</td>\n",
       "    </tr>\n",
       "    <tr>\n",
       "      <th>24</th>\n",
       "      <td></td>\n",
       "      <td>WhatsApp Messenger Forensic Analysis Based on ...</td>\n",
       "      <td></td>\n",
       "      <td></td>\n",
       "      <td></td>\n",
       "    </tr>\n",
       "  </tbody>\n",
       "</table>\n",
       "</div>"
      ],
      "text/plain": [
       "                                Company Name  \\\n",
       "20                                             \n",
       "21  Agensi Pekerjaan & Latihan TAPRO Sdn Bhd   \n",
       "22        People Systems Consultancy Sdn Bhd   \n",
       "23                                             \n",
       "24                                             \n",
       "\n",
       "                                                Title  \\\n",
       "20                                                      \n",
       "21                        (CRM) tool for recruitment.   \n",
       "22  App to build Financial Inclusion and Intellige...   \n",
       "23                       Statistics: Zero to Hundred    \n",
       "24  WhatsApp Messenger Forensic Analysis Based on ...   \n",
       "\n",
       "                                       Project brief   \\\n",
       "20                                                      \n",
       "21  Currently, selected information of the candida...   \n",
       "22  Build the financial resilience and intelligenc...   \n",
       "23  In the world of education, e-learning platform...   \n",
       "24                                                      \n",
       "\n",
       "                                   Project Background  \\\n",
       "20                                                      \n",
       "21            Aim to build a CRM tool for recruitment   \n",
       "22  seeking support and assistance to: \\n(a) build...   \n",
       "23  The aim of this project is to create an e-lear...   \n",
       "24                                                      \n",
       "\n",
       "                                         Requirements  \n",
       "20                                                     \n",
       "21  currently select information candidates extrac...  \n",
       "22  build financial resilience intelligence differ...  \n",
       "23  world education learn platform essential make ...  \n",
       "24                                                     "
      ]
     },
     "execution_count": 15,
     "metadata": {},
     "output_type": "execute_result"
    }
   ],
   "source": [
    "client_data.tail()"
   ]
  },
  {
   "cell_type": "markdown",
   "metadata": {},
   "source": [
    "## Student corpus"
   ]
  },
  {
   "cell_type": "code",
   "execution_count": 16,
   "metadata": {},
   "outputs": [],
   "source": [
    "student_data['Requirements'] = student_data['Program '].map(str) + ' ' + student_data['Areas of Interest and your technical strength']"
   ]
  },
  {
   "cell_type": "code",
   "execution_count": 17,
   "metadata": {},
   "outputs": [],
   "source": [
    "student_data = student_data[['FULL NAME As your IC/Passport','Requirements']]"
   ]
  },
  {
   "cell_type": "code",
   "execution_count": 18,
   "metadata": {},
   "outputs": [
    {
     "data": {
      "text/html": [
       "<div>\n",
       "<style scoped>\n",
       "    .dataframe tbody tr th:only-of-type {\n",
       "        vertical-align: middle;\n",
       "    }\n",
       "\n",
       "    .dataframe tbody tr th {\n",
       "        vertical-align: top;\n",
       "    }\n",
       "\n",
       "    .dataframe thead th {\n",
       "        text-align: right;\n",
       "    }\n",
       "</style>\n",
       "<table border=\"1\" class=\"dataframe\">\n",
       "  <thead>\n",
       "    <tr style=\"text-align: right;\">\n",
       "      <th></th>\n",
       "      <th>FULL NAME As your IC/Passport</th>\n",
       "      <th>Requirements</th>\n",
       "    </tr>\n",
       "  </thead>\n",
       "  <tbody>\n",
       "    <tr>\n",
       "      <th>0</th>\n",
       "      <td>Nicholas Ryan Farm</td>\n",
       "      <td>Bachelor of Computer Science Full Stack Web De...</td>\n",
       "    </tr>\n",
       "    <tr>\n",
       "      <th>1</th>\n",
       "      <td>Gan Zheng Jie</td>\n",
       "      <td>Bachelor of Software Engineering  Full stack m...</td>\n",
       "    </tr>\n",
       "    <tr>\n",
       "      <th>2</th>\n",
       "      <td>Low Yee Yieng</td>\n",
       "      <td>Bachelor of Software Engineering  IT Analysis,...</td>\n",
       "    </tr>\n",
       "  </tbody>\n",
       "</table>\n",
       "</div>"
      ],
      "text/plain": [
       "  FULL NAME As your IC/Passport  \\\n",
       "0            Nicholas Ryan Farm   \n",
       "1                 Gan Zheng Jie   \n",
       "2                 Low Yee Yieng   \n",
       "\n",
       "                                        Requirements  \n",
       "0  Bachelor of Computer Science Full Stack Web De...  \n",
       "1  Bachelor of Software Engineering  Full stack m...  \n",
       "2  Bachelor of Software Engineering  IT Analysis,...  "
      ]
     },
     "execution_count": 18,
     "metadata": {},
     "output_type": "execute_result"
    }
   ],
   "source": [
    "student_data.head(3)"
   ]
  },
  {
   "cell_type": "code",
   "execution_count": 19,
   "metadata": {},
   "outputs": [],
   "source": [
    "student_data['Requirements'] = student_data['Requirements'].apply(clean_txt)"
   ]
  },
  {
   "cell_type": "markdown",
   "metadata": {},
   "source": [
    "# Term Ferquency - Inverse Document Frequency"
   ]
  },
  {
   "cell_type": "code",
   "execution_count": 20,
   "metadata": {},
   "outputs": [
    {
     "data": {
      "text/plain": [
       "<25x626 sparse matrix of type '<class 'numpy.float64'>'\n",
       "\twith 921 stored elements in Compressed Sparse Row format>"
      ]
     },
     "execution_count": 20,
     "metadata": {},
     "output_type": "execute_result"
    }
   ],
   "source": [
    "tfidf_vect = TfidfVectorizer()\n",
    "\n",
    "# Fitting and transforming the vector\n",
    "tfidf_comb = tfidf_vect.fit_transform((client_data['Requirements'])) \n",
    "tfidf_comb"
   ]
  },
  {
   "cell_type": "code",
   "execution_count": 21,
   "metadata": {},
   "outputs": [],
   "source": [
    "user = \"Nicholas Ryan Farm\"\n",
    "index2 = np.where(student_data['FULL NAME As your IC/Passport'] == user)[0][0]"
   ]
  },
  {
   "cell_type": "code",
   "execution_count": 22,
   "metadata": {},
   "outputs": [
    {
     "data": {
      "text/html": [
       "<div>\n",
       "<style scoped>\n",
       "    .dataframe tbody tr th:only-of-type {\n",
       "        vertical-align: middle;\n",
       "    }\n",
       "\n",
       "    .dataframe tbody tr th {\n",
       "        vertical-align: top;\n",
       "    }\n",
       "\n",
       "    .dataframe thead th {\n",
       "        text-align: right;\n",
       "    }\n",
       "</style>\n",
       "<table border=\"1\" class=\"dataframe\">\n",
       "  <thead>\n",
       "    <tr style=\"text-align: right;\">\n",
       "      <th></th>\n",
       "      <th>FULL NAME As your IC/Passport</th>\n",
       "      <th>Requirements</th>\n",
       "    </tr>\n",
       "  </thead>\n",
       "  <tbody>\n",
       "    <tr>\n",
       "      <th>0</th>\n",
       "      <td>Nicholas Ryan Farm</td>\n",
       "      <td>bachelor computer science full stack web devel...</td>\n",
       "    </tr>\n",
       "  </tbody>\n",
       "</table>\n",
       "</div>"
      ],
      "text/plain": [
       "  FULL NAME As your IC/Passport  \\\n",
       "0            Nicholas Ryan Farm   \n",
       "\n",
       "                                        Requirements  \n",
       "0  bachelor computer science full stack web devel...  "
      ]
     },
     "execution_count": 22,
     "metadata": {},
     "output_type": "execute_result"
    }
   ],
   "source": [
    "student_data_1 = student_data.iloc[[index2]]\n",
    "student_data_1"
   ]
  },
  {
   "cell_type": "code",
   "execution_count": 23,
   "metadata": {},
   "outputs": [
    {
     "data": {
      "text/plain": [
       "[array([[0.27707994]]),\n",
       " array([[0.]]),\n",
       " array([[0.01940262]]),\n",
       " array([[0.]]),\n",
       " array([[0.17834359]]),\n",
       " array([[0.04756199]]),\n",
       " array([[0.1065304]]),\n",
       " array([[0.]]),\n",
       " array([[0.16944361]]),\n",
       " array([[0.07722981]]),\n",
       " array([[0.04245635]]),\n",
       " array([[0.]]),\n",
       " array([[0.]]),\n",
       " array([[0.]]),\n",
       " array([[0.]]),\n",
       " array([[0.]]),\n",
       " array([[0.09570462]]),\n",
       " array([[0.15236234]]),\n",
       " array([[0.01794798]]),\n",
       " array([[0.]]),\n",
       " array([[0.]]),\n",
       " array([[0.0357513]]),\n",
       " array([[0.02905651]]),\n",
       " array([[0.0247534]]),\n",
       " array([[0.]])]"
      ]
     },
     "execution_count": 23,
     "metadata": {},
     "output_type": "execute_result"
    }
   ],
   "source": [
    "stud_rec = tfidf_vect.transform(student_data_1['Requirements'])\n",
    "cos_stud_rec = list(map(lambda x: cosine_similarity(stud_rec, x), tfidf_comb))\n",
    "cos_stud_rec"
   ]
  },
  {
   "cell_type": "code",
   "execution_count": 24,
   "metadata": {},
   "outputs": [],
   "source": [
    "def get_recommendation(top, client_data, scores):\n",
    "  recommendation = pd.DataFrame(columns = ['Student', 'Title',  'Company Name', 'Score'])\n",
    "  count = 0\n",
    "  for i in top:\n",
    "      recommendation.at[count, 'Student'] = user\n",
    "      recommendation.at[count, 'Title'] = client_data['Title'][i]\n",
    "      recommendation.at[count, 'Company Name'] = client_data['Company Name'][i]\n",
    "      recommendation.at[count, 'Score'] =  scores[count]\n",
    "      count += 1\n",
    "  return recommendation"
   ]
  },
  {
   "cell_type": "code",
   "execution_count": 25,
   "metadata": {},
   "outputs": [
    {
     "data": {
      "text/plain": [
       "[0, 4, 8, 17, 6, 16, 9, 5, 10, 21]"
      ]
     },
     "execution_count": 25,
     "metadata": {},
     "output_type": "execute_result"
    }
   ],
   "source": [
    "top10_stud_rec = sorted(range(len(cos_stud_rec)), key = lambda i: cos_stud_rec[i], reverse = True)[:10]\n",
    "top10_stud_rec "
   ]
  },
  {
   "cell_type": "code",
   "execution_count": 26,
   "metadata": {},
   "outputs": [
    {
     "data": {
      "text/plain": [
       "[0.2770799408184324,\n",
       " 0.178343594333634,\n",
       " 0.16944361027034827,\n",
       " 0.15236234238839746,\n",
       " 0.10653040262232864,\n",
       " 0.09570461863347014,\n",
       " 0.07722980676345359,\n",
       " 0.04756198608485304,\n",
       " 0.04245634537212887,\n",
       " 0.035751302364328975]"
      ]
     },
     "execution_count": 26,
     "metadata": {},
     "output_type": "execute_result"
    }
   ],
   "source": [
    "list_scores = [cos_stud_rec[i][0][0] for i in top10_stud_rec]\n",
    "list_scores"
   ]
  },
  {
   "cell_type": "code",
   "execution_count": 27,
   "metadata": {},
   "outputs": [
    {
     "data": {
      "text/html": [
       "<div>\n",
       "<style scoped>\n",
       "    .dataframe tbody tr th:only-of-type {\n",
       "        vertical-align: middle;\n",
       "    }\n",
       "\n",
       "    .dataframe tbody tr th {\n",
       "        vertical-align: top;\n",
       "    }\n",
       "\n",
       "    .dataframe thead th {\n",
       "        text-align: right;\n",
       "    }\n",
       "</style>\n",
       "<table border=\"1\" class=\"dataframe\">\n",
       "  <thead>\n",
       "    <tr style=\"text-align: right;\">\n",
       "      <th></th>\n",
       "      <th>Student</th>\n",
       "      <th>Title</th>\n",
       "      <th>Company Name</th>\n",
       "      <th>Score</th>\n",
       "    </tr>\n",
       "  </thead>\n",
       "  <tbody>\n",
       "    <tr>\n",
       "      <th>0</th>\n",
       "      <td>Nicholas Ryan Farm</td>\n",
       "      <td>ATX Software Testing Suite</td>\n",
       "      <td>ATX</td>\n",
       "      <td>0.27708</td>\n",
       "    </tr>\n",
       "    <tr>\n",
       "      <th>1</th>\n",
       "      <td>Nicholas Ryan Farm</td>\n",
       "      <td>Educational Game</td>\n",
       "      <td></td>\n",
       "      <td>0.178344</td>\n",
       "    </tr>\n",
       "    <tr>\n",
       "      <th>2</th>\n",
       "      <td>Nicholas Ryan Farm</td>\n",
       "      <td>\\nNodejs Port of ATX Wallet System\\n</td>\n",
       "      <td>ATX / MSC</td>\n",
       "      <td>0.169444</td>\n",
       "    </tr>\n",
       "    <tr>\n",
       "      <th>3</th>\n",
       "      <td>Nicholas Ryan Farm</td>\n",
       "      <td>Cyber Threat Intelligence Mining Model</td>\n",
       "      <td></td>\n",
       "      <td>0.152362</td>\n",
       "    </tr>\n",
       "    <tr>\n",
       "      <th>4</th>\n",
       "      <td>Nicholas Ryan Farm</td>\n",
       "      <td>Content Management System in an IOT environment</td>\n",
       "      <td>Coinnov8 Web Portal</td>\n",
       "      <td>0.10653</td>\n",
       "    </tr>\n",
       "    <tr>\n",
       "      <th>5</th>\n",
       "      <td>Nicholas Ryan Farm</td>\n",
       "      <td>Hilti Global Territory Management Solution</td>\n",
       "      <td>Hilti</td>\n",
       "      <td>0.095705</td>\n",
       "    </tr>\n",
       "    <tr>\n",
       "      <th>6</th>\n",
       "      <td>Nicholas Ryan Farm</td>\n",
       "      <td>Nodejs Port of Mypospay Backend</td>\n",
       "      <td>ATX / MSC</td>\n",
       "      <td>0.07723</td>\n",
       "    </tr>\n",
       "    <tr>\n",
       "      <th>7</th>\n",
       "      <td>Nicholas Ryan Farm</td>\n",
       "      <td>Fake News Detection</td>\n",
       "      <td>ProximaX</td>\n",
       "      <td>0.047562</td>\n",
       "    </tr>\n",
       "    <tr>\n",
       "      <th>8</th>\n",
       "      <td>Nicholas Ryan Farm</td>\n",
       "      <td>Online Assessment in Education System</td>\n",
       "      <td></td>\n",
       "      <td>0.042456</td>\n",
       "    </tr>\n",
       "    <tr>\n",
       "      <th>9</th>\n",
       "      <td>Nicholas Ryan Farm</td>\n",
       "      <td>(CRM) tool for recruitment.</td>\n",
       "      <td>Agensi Pekerjaan &amp; Latihan TAPRO Sdn Bhd</td>\n",
       "      <td>0.035751</td>\n",
       "    </tr>\n",
       "  </tbody>\n",
       "</table>\n",
       "</div>"
      ],
      "text/plain": [
       "              Student                                             Title  \\\n",
       "0  Nicholas Ryan Farm                        ATX Software Testing Suite   \n",
       "1  Nicholas Ryan Farm                                 Educational Game    \n",
       "2  Nicholas Ryan Farm              \\nNodejs Port of ATX Wallet System\\n   \n",
       "3  Nicholas Ryan Farm            Cyber Threat Intelligence Mining Model   \n",
       "4  Nicholas Ryan Farm  Content Management System in an IOT environment    \n",
       "5  Nicholas Ryan Farm        Hilti Global Territory Management Solution   \n",
       "6  Nicholas Ryan Farm                   Nodejs Port of Mypospay Backend   \n",
       "7  Nicholas Ryan Farm                              Fake News Detection    \n",
       "8  Nicholas Ryan Farm            Online Assessment in Education System    \n",
       "9  Nicholas Ryan Farm                       (CRM) tool for recruitment.   \n",
       "\n",
       "                               Company Name     Score  \n",
       "0                                       ATX   0.27708  \n",
       "1                                            0.178344  \n",
       "2                                ATX / MSC   0.169444  \n",
       "3                                            0.152362  \n",
       "4                       Coinnov8 Web Portal   0.10653  \n",
       "5                                     Hilti  0.095705  \n",
       "6                                ATX / MSC    0.07723  \n",
       "7                                  ProximaX  0.047562  \n",
       "8                                            0.042456  \n",
       "9  Agensi Pekerjaan & Latihan TAPRO Sdn Bhd  0.035751  "
      ]
     },
     "execution_count": 27,
     "metadata": {},
     "output_type": "execute_result"
    }
   ],
   "source": [
    "get_recommendation(top10_stud_rec, client_data, list_scores)"
   ]
  },
  {
   "cell_type": "markdown",
   "metadata": {},
   "source": [
    "#  Top Recommendations with Count Vectorizer"
   ]
  },
  {
   "cell_type": "code",
   "execution_count": 28,
   "metadata": {},
   "outputs": [
    {
     "data": {
      "text/plain": [
       "<25x626 sparse matrix of type '<class 'numpy.int64'>'\n",
       "\twith 921 stored elements in Compressed Sparse Row format>"
      ]
     },
     "execution_count": 28,
     "metadata": {},
     "output_type": "execute_result"
    }
   ],
   "source": [
    "count_vect = CountVectorizer()\n",
    "\n",
    "# Fitting and transforming the vectorizer\n",
    "count_comb = count_vect.fit_transform((client_data['Requirements'])) #fitting and transforming the vector\n",
    "count_comb"
   ]
  },
  {
   "cell_type": "code",
   "execution_count": 29,
   "metadata": {},
   "outputs": [],
   "source": [
    "student_data_1_cv = count_vect.transform(student_data_1['Requirements'])\n",
    "cv_cos_stud_data = list(map(lambda x: cosine_similarity(student_data_1_cv, x), count_comb))"
   ]
  },
  {
   "cell_type": "code",
   "execution_count": 31,
   "metadata": {},
   "outputs": [
    {
     "data": {
      "text/html": [
       "<div>\n",
       "<style scoped>\n",
       "    .dataframe tbody tr th:only-of-type {\n",
       "        vertical-align: middle;\n",
       "    }\n",
       "\n",
       "    .dataframe tbody tr th {\n",
       "        vertical-align: top;\n",
       "    }\n",
       "\n",
       "    .dataframe thead th {\n",
       "        text-align: right;\n",
       "    }\n",
       "</style>\n",
       "<table border=\"1\" class=\"dataframe\">\n",
       "  <thead>\n",
       "    <tr style=\"text-align: right;\">\n",
       "      <th></th>\n",
       "      <th>Student</th>\n",
       "      <th>Title</th>\n",
       "      <th>Company Name</th>\n",
       "      <th>Score</th>\n",
       "    </tr>\n",
       "  </thead>\n",
       "  <tbody>\n",
       "    <tr>\n",
       "      <th>0</th>\n",
       "      <td>Nicholas Ryan Farm</td>\n",
       "      <td>ATX Software Testing Suite</td>\n",
       "      <td>ATX</td>\n",
       "      <td>0.318198</td>\n",
       "    </tr>\n",
       "    <tr>\n",
       "      <th>1</th>\n",
       "      <td>Nicholas Ryan Farm</td>\n",
       "      <td>\\nNodejs Port of ATX Wallet System\\n</td>\n",
       "      <td>ATX / MSC</td>\n",
       "      <td>0.244451</td>\n",
       "    </tr>\n",
       "    <tr>\n",
       "      <th>2</th>\n",
       "      <td>Nicholas Ryan Farm</td>\n",
       "      <td>Educational Game</td>\n",
       "      <td></td>\n",
       "      <td>0.21347</td>\n",
       "    </tr>\n",
       "    <tr>\n",
       "      <th>3</th>\n",
       "      <td>Nicholas Ryan Farm</td>\n",
       "      <td>Cyber Threat Intelligence Mining Model</td>\n",
       "      <td></td>\n",
       "      <td>0.168364</td>\n",
       "    </tr>\n",
       "    <tr>\n",
       "      <th>4</th>\n",
       "      <td>Nicholas Ryan Farm</td>\n",
       "      <td>Nodejs Port of Mypospay Backend</td>\n",
       "      <td>ATX / MSC</td>\n",
       "      <td>0.11767</td>\n",
       "    </tr>\n",
       "    <tr>\n",
       "      <th>5</th>\n",
       "      <td>Nicholas Ryan Farm</td>\n",
       "      <td>Content Management System in an IOT environment</td>\n",
       "      <td>Coinnov8 Web Portal</td>\n",
       "      <td>0.116775</td>\n",
       "    </tr>\n",
       "    <tr>\n",
       "      <th>6</th>\n",
       "      <td>Nicholas Ryan Farm</td>\n",
       "      <td>Hilti Global Territory Management Solution</td>\n",
       "      <td>Hilti</td>\n",
       "      <td>0.103142</td>\n",
       "    </tr>\n",
       "    <tr>\n",
       "      <th>7</th>\n",
       "      <td>Nicholas Ryan Farm</td>\n",
       "      <td>Fake News Detection</td>\n",
       "      <td>ProximaX</td>\n",
       "      <td>0.08165</td>\n",
       "    </tr>\n",
       "    <tr>\n",
       "      <th>8</th>\n",
       "      <td>Nicholas Ryan Farm</td>\n",
       "      <td>Online Assessment in Education System</td>\n",
       "      <td></td>\n",
       "      <td>0.055048</td>\n",
       "    </tr>\n",
       "    <tr>\n",
       "      <th>9</th>\n",
       "      <td>Nicholas Ryan Farm</td>\n",
       "      <td>Statistics: Zero to Hundred</td>\n",
       "      <td></td>\n",
       "      <td>0.04461</td>\n",
       "    </tr>\n",
       "  </tbody>\n",
       "</table>\n",
       "</div>"
      ],
      "text/plain": [
       "              Student                                             Title  \\\n",
       "0  Nicholas Ryan Farm                        ATX Software Testing Suite   \n",
       "1  Nicholas Ryan Farm              \\nNodejs Port of ATX Wallet System\\n   \n",
       "2  Nicholas Ryan Farm                                 Educational Game    \n",
       "3  Nicholas Ryan Farm            Cyber Threat Intelligence Mining Model   \n",
       "4  Nicholas Ryan Farm                   Nodejs Port of Mypospay Backend   \n",
       "5  Nicholas Ryan Farm  Content Management System in an IOT environment    \n",
       "6  Nicholas Ryan Farm        Hilti Global Territory Management Solution   \n",
       "7  Nicholas Ryan Farm                              Fake News Detection    \n",
       "8  Nicholas Ryan Farm            Online Assessment in Education System    \n",
       "9  Nicholas Ryan Farm                      Statistics: Zero to Hundred    \n",
       "\n",
       "          Company Name     Score  \n",
       "0                  ATX  0.318198  \n",
       "1           ATX / MSC   0.244451  \n",
       "2                        0.21347  \n",
       "3                       0.168364  \n",
       "4           ATX / MSC    0.11767  \n",
       "5  Coinnov8 Web Portal  0.116775  \n",
       "6                Hilti  0.103142  \n",
       "7             ProximaX   0.08165  \n",
       "8                       0.055048  \n",
       "9                        0.04461  "
      ]
     },
     "execution_count": 31,
     "metadata": {},
     "output_type": "execute_result"
    }
   ],
   "source": [
    "top10_cv_count = sorted(range(len(cv_cos_stud_data)), key = lambda i: cv_cos_stud_data[i], reverse = True)[:10]\n",
    "list_cv_count = [cv_cos_stud_data[i][0][0] for i in top10_cv_count]\n",
    "get_recommendation(top10_cv_count, client_data, list_cv_count)"
   ]
  },
  {
   "cell_type": "code",
   "execution_count": 34,
   "metadata": {},
   "outputs": [
    {
     "name": "stdout",
     "output_type": "stream",
     "text": [
      "0    bachelor computer science full stack web devel...\n",
      "Name: Requirements, dtype: object\n"
     ]
    }
   ],
   "source": [
    "print(student_data_1['Requirements'])"
   ]
  },
  {
   "cell_type": "markdown",
   "metadata": {},
   "source": [
    "# Top Recommendations using KNN"
   ]
  },
  {
   "cell_type": "code",
   "execution_count": 36,
   "metadata": {},
   "outputs": [
    {
     "data": {
      "text/plain": [
       "NearestNeighbors(n_neighbors=11)"
      ]
     },
     "execution_count": 36,
     "metadata": {},
     "output_type": "execute_result"
    }
   ],
   "source": [
    "n_neighbors = 11\n",
    "KNN = NearestNeighbors(n_neighbors = n_neighbors, p = 2)\n",
    "KNN.fit(tfidf_comb)"
   ]
  },
  {
   "cell_type": "code",
   "execution_count": 38,
   "metadata": {},
   "outputs": [],
   "source": [
    "knn_rec = KNN.kneighbors(stud_rec, return_distance = True) "
   ]
  },
  {
   "cell_type": "code",
   "execution_count": 40,
   "metadata": {},
   "outputs": [
    {
     "data": {
      "text/plain": [
       "array([1.        , 1.        , 1.        , 1.        , 1.        ,\n",
       "       1.20243092, 1.28191763, 1.28884164, 1.30202739, 1.33676445])"
      ]
     },
     "execution_count": 40,
     "metadata": {},
     "output_type": "execute_result"
    }
   ],
   "source": [
    "knn_rec[0][0][1:]"
   ]
  },
  {
   "cell_type": "code",
   "execution_count": 41,
   "metadata": {},
   "outputs": [
    {
     "data": {
      "text/html": [
       "<div>\n",
       "<style scoped>\n",
       "    .dataframe tbody tr th:only-of-type {\n",
       "        vertical-align: middle;\n",
       "    }\n",
       "\n",
       "    .dataframe tbody tr th {\n",
       "        vertical-align: top;\n",
       "    }\n",
       "\n",
       "    .dataframe thead th {\n",
       "        text-align: right;\n",
       "    }\n",
       "</style>\n",
       "<table border=\"1\" class=\"dataframe\">\n",
       "  <thead>\n",
       "    <tr style=\"text-align: right;\">\n",
       "      <th></th>\n",
       "      <th>Student</th>\n",
       "      <th>Title</th>\n",
       "      <th>Company Name</th>\n",
       "      <th>Score</th>\n",
       "    </tr>\n",
       "  </thead>\n",
       "  <tbody>\n",
       "    <tr>\n",
       "      <th>0</th>\n",
       "      <td>Nicholas Ryan Farm</td>\n",
       "      <td></td>\n",
       "      <td></td>\n",
       "      <td>1.0</td>\n",
       "    </tr>\n",
       "    <tr>\n",
       "      <th>1</th>\n",
       "      <td>Nicholas Ryan Farm</td>\n",
       "      <td></td>\n",
       "      <td></td>\n",
       "      <td>1.0</td>\n",
       "    </tr>\n",
       "    <tr>\n",
       "      <th>2</th>\n",
       "      <td>Nicholas Ryan Farm</td>\n",
       "      <td></td>\n",
       "      <td></td>\n",
       "      <td>1.0</td>\n",
       "    </tr>\n",
       "    <tr>\n",
       "      <th>3</th>\n",
       "      <td>Nicholas Ryan Farm</td>\n",
       "      <td></td>\n",
       "      <td></td>\n",
       "      <td>1.0</td>\n",
       "    </tr>\n",
       "    <tr>\n",
       "      <th>4</th>\n",
       "      <td>Nicholas Ryan Farm</td>\n",
       "      <td>WhatsApp Messenger Forensic Analysis Based on ...</td>\n",
       "      <td></td>\n",
       "      <td>1.0</td>\n",
       "    </tr>\n",
       "    <tr>\n",
       "      <th>5</th>\n",
       "      <td>Nicholas Ryan Farm</td>\n",
       "      <td>ATX Software Testing Suite</td>\n",
       "      <td>ATX</td>\n",
       "      <td>1.202431</td>\n",
       "    </tr>\n",
       "    <tr>\n",
       "      <th>6</th>\n",
       "      <td>Nicholas Ryan Farm</td>\n",
       "      <td>Educational Game</td>\n",
       "      <td></td>\n",
       "      <td>1.281918</td>\n",
       "    </tr>\n",
       "    <tr>\n",
       "      <th>7</th>\n",
       "      <td>Nicholas Ryan Farm</td>\n",
       "      <td>\\nNodejs Port of ATX Wallet System\\n</td>\n",
       "      <td>ATX / MSC</td>\n",
       "      <td>1.288842</td>\n",
       "    </tr>\n",
       "    <tr>\n",
       "      <th>8</th>\n",
       "      <td>Nicholas Ryan Farm</td>\n",
       "      <td>Cyber Threat Intelligence Mining Model</td>\n",
       "      <td></td>\n",
       "      <td>1.302027</td>\n",
       "    </tr>\n",
       "    <tr>\n",
       "      <th>9</th>\n",
       "      <td>Nicholas Ryan Farm</td>\n",
       "      <td>Content Management System in an IOT environment</td>\n",
       "      <td>Coinnov8 Web Portal</td>\n",
       "      <td>1.336764</td>\n",
       "    </tr>\n",
       "  </tbody>\n",
       "</table>\n",
       "</div>"
      ],
      "text/plain": [
       "              Student                                              Title  \\\n",
       "0  Nicholas Ryan Farm                                                      \n",
       "1  Nicholas Ryan Farm                                                      \n",
       "2  Nicholas Ryan Farm                                                      \n",
       "3  Nicholas Ryan Farm                                                      \n",
       "4  Nicholas Ryan Farm  WhatsApp Messenger Forensic Analysis Based on ...   \n",
       "5  Nicholas Ryan Farm                         ATX Software Testing Suite   \n",
       "6  Nicholas Ryan Farm                                  Educational Game    \n",
       "7  Nicholas Ryan Farm               \\nNodejs Port of ATX Wallet System\\n   \n",
       "8  Nicholas Ryan Farm             Cyber Threat Intelligence Mining Model   \n",
       "9  Nicholas Ryan Farm   Content Management System in an IOT environment    \n",
       "\n",
       "          Company Name     Score  \n",
       "0                            1.0  \n",
       "1                            1.0  \n",
       "2                            1.0  \n",
       "3                            1.0  \n",
       "4                            1.0  \n",
       "5                  ATX  1.202431  \n",
       "6                       1.281918  \n",
       "7           ATX / MSC   1.288842  \n",
       "8                       1.302027  \n",
       "9  Coinnov8 Web Portal  1.336764  "
      ]
     },
     "execution_count": 41,
     "metadata": {},
     "output_type": "execute_result"
    }
   ],
   "source": [
    "top10_rec_knn = knn_rec[1][0][1:]\n",
    "index_score_knn = knn_rec[0][0][1:]\n",
    "\n",
    "get_recommendation(top10_rec_knn, client_data, index_score_knn)"
   ]
  },
  {
   "cell_type": "code",
   "execution_count": null,
   "metadata": {},
   "outputs": [],
   "source": []
  },
  {
   "cell_type": "code",
   "execution_count": null,
   "metadata": {},
   "outputs": [],
   "source": []
  }
 ],
 "metadata": {
  "kernelspec": {
   "display_name": "CPRS",
   "language": "python",
   "name": "cprs"
  },
  "language_info": {
   "codemirror_mode": {
    "name": "ipython",
    "version": 3
   },
   "file_extension": ".py",
   "mimetype": "text/x-python",
   "name": "python",
   "nbconvert_exporter": "python",
   "pygments_lexer": "ipython3",
   "version": "3.8.10"
  }
 },
 "nbformat": 4,
 "nbformat_minor": 4
}
