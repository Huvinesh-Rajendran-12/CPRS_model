{
 "cells": [
  {
   "cell_type": "code",
   "execution_count": 1,
   "metadata": {},
   "outputs": [],
   "source": [
    "import pandas as pd\n",
    "import numpy as np\n",
    "import nltk\n",
    "import matplotlib.pyplot as plt\n",
    "import seaborn as sns\n",
    "%matplotlib inline\n",
    "from nltk.corpus import stopwords\n",
    "import re\n",
    "import string\n",
    "from nltk.stem import WordNetLemmatizer\n",
    "from nltk import word_tokenize\n",
    "from nltk.corpus import stopwords\n",
    "from sklearn.feature_extraction.text import TfidfVectorizer\n",
    "from sklearn.metrics.pairwise import cosine_similarity\n",
    "from sklearn.feature_extraction.text import CountVectorizer\n",
    "from sklearn.neighbors import NearestNeighbors"
   ]
  },
  {
   "cell_type": "code",
   "execution_count": 2,
   "metadata": {},
   "outputs": [],
   "source": [
    "client_data = pd.read_csv('./data/clients.csv',skipinitialspace = True)\n",
    "student_group_data = pd.read_csv('./data/group.csv',skipinitialspace =True)"
   ]
  },
  {
   "cell_type": "code",
   "execution_count": 3,
   "metadata": {},
   "outputs": [
    {
     "data": {
      "text/html": [
       "<div>\n",
       "<style scoped>\n",
       "    .dataframe tbody tr th:only-of-type {\n",
       "        vertical-align: middle;\n",
       "    }\n",
       "\n",
       "    .dataframe tbody tr th {\n",
       "        vertical-align: top;\n",
       "    }\n",
       "\n",
       "    .dataframe thead th {\n",
       "        text-align: right;\n",
       "    }\n",
       "</style>\n",
       "<table border=\"1\" class=\"dataframe\">\n",
       "  <thead>\n",
       "    <tr style=\"text-align: right;\">\n",
       "      <th></th>\n",
       "      <th>Company Name</th>\n",
       "      <th>Title</th>\n",
       "      <th>Project brief</th>\n",
       "      <th>Project Background</th>\n",
       "      <th>Requiements</th>\n",
       "    </tr>\n",
       "  </thead>\n",
       "  <tbody>\n",
       "    <tr>\n",
       "      <th>0</th>\n",
       "      <td>ATX</td>\n",
       "      <td>ATX Software Testing Suite</td>\n",
       "      <td>Automated testing suite for all software produ...</td>\n",
       "      <td>This project will focus on graphical user inte...</td>\n",
       "      <td>Generates user interface events and observes t...</td>\n",
       "    </tr>\n",
       "    <tr>\n",
       "      <th>1</th>\n",
       "      <td>NaN</td>\n",
       "      <td>Prediction on Obesity associates with Lifestyl...</td>\n",
       "      <td>Identify the effective indicators of obesity b...</td>\n",
       "      <td>The main objective of the present study is to ...</td>\n",
       "      <td>To propose the features in determining obesity...</td>\n",
       "    </tr>\n",
       "    <tr>\n",
       "      <th>2</th>\n",
       "      <td>NaN</td>\n",
       "      <td>Mobile Advertising Platform with Designing Sui...</td>\n",
       "      <td>To improve employee communications and engagem...</td>\n",
       "      <td>The goal of the project is to create a mobile ...</td>\n",
       "      <td>to provide direct communications on employment...</td>\n",
       "    </tr>\n",
       "  </tbody>\n",
       "</table>\n",
       "</div>"
      ],
      "text/plain": [
       "  Company Name                                              Title  \\\n",
       "0          ATX                         ATX Software Testing Suite   \n",
       "1          NaN  Prediction on Obesity associates with Lifestyl...   \n",
       "2          NaN  Mobile Advertising Platform with Designing Sui...   \n",
       "\n",
       "                                      Project brief   \\\n",
       "0  Automated testing suite for all software produ...   \n",
       "1  Identify the effective indicators of obesity b...   \n",
       "2  To improve employee communications and engagem...   \n",
       "\n",
       "                                  Project Background  \\\n",
       "0  This project will focus on graphical user inte...   \n",
       "1  The main objective of the present study is to ...   \n",
       "2  The goal of the project is to create a mobile ...   \n",
       "\n",
       "                                         Requiements  \n",
       "0  Generates user interface events and observes t...  \n",
       "1  To propose the features in determining obesity...  \n",
       "2  to provide direct communications on employment...  "
      ]
     },
     "execution_count": 3,
     "metadata": {},
     "output_type": "execute_result"
    }
   ],
   "source": [
    "client_data.head(3)"
   ]
  },
  {
   "cell_type": "code",
   "execution_count": 4,
   "metadata": {},
   "outputs": [
    {
     "data": {
      "text/html": [
       "<div>\n",
       "<style scoped>\n",
       "    .dataframe tbody tr th:only-of-type {\n",
       "        vertical-align: middle;\n",
       "    }\n",
       "\n",
       "    .dataframe tbody tr th {\n",
       "        vertical-align: top;\n",
       "    }\n",
       "\n",
       "    .dataframe thead th {\n",
       "        text-align: right;\n",
       "    }\n",
       "</style>\n",
       "<table border=\"1\" class=\"dataframe\">\n",
       "  <thead>\n",
       "    <tr style=\"text-align: right;\">\n",
       "      <th></th>\n",
       "      <th>group_id</th>\n",
       "      <th>group_details</th>\n",
       "    </tr>\n",
       "  </thead>\n",
       "  <tbody>\n",
       "    <tr>\n",
       "      <th>0</th>\n",
       "      <td>1</td>\n",
       "      <td>Data Science Artificial Intelligence Machine L...</td>\n",
       "    </tr>\n",
       "    <tr>\n",
       "      <th>1</th>\n",
       "      <td>2</td>\n",
       "      <td>Full Stack Web Development Project Management ...</td>\n",
       "    </tr>\n",
       "  </tbody>\n",
       "</table>\n",
       "</div>"
      ],
      "text/plain": [
       "   group_id                                     group_details \n",
       "0         1  Data Science Artificial Intelligence Machine L...\n",
       "1         2  Full Stack Web Development Project Management ..."
      ]
     },
     "execution_count": 4,
     "metadata": {},
     "output_type": "execute_result"
    }
   ],
   "source": [
    "student_group_data.head(4)"
   ]
  },
  {
   "cell_type": "markdown",
   "metadata": {},
   "source": [
    "# Exploratory Data Analysis"
   ]
  },
  {
   "cell_type": "code",
   "execution_count": 5,
   "metadata": {},
   "outputs": [],
   "source": [
    "client_data['Requirements'] = client_data['Project brief '].map(str) + ' ' + client_data['Project Background']+' '+client_data['Requiements']"
   ]
  },
  {
   "cell_type": "code",
   "execution_count": 6,
   "metadata": {},
   "outputs": [
    {
     "data": {
      "text/html": [
       "<div>\n",
       "<style scoped>\n",
       "    .dataframe tbody tr th:only-of-type {\n",
       "        vertical-align: middle;\n",
       "    }\n",
       "\n",
       "    .dataframe tbody tr th {\n",
       "        vertical-align: top;\n",
       "    }\n",
       "\n",
       "    .dataframe thead th {\n",
       "        text-align: right;\n",
       "    }\n",
       "</style>\n",
       "<table border=\"1\" class=\"dataframe\">\n",
       "  <thead>\n",
       "    <tr style=\"text-align: right;\">\n",
       "      <th></th>\n",
       "      <th>Company Name</th>\n",
       "      <th>Title</th>\n",
       "      <th>Project brief</th>\n",
       "      <th>Project Background</th>\n",
       "      <th>Requiements</th>\n",
       "      <th>Requirements</th>\n",
       "    </tr>\n",
       "  </thead>\n",
       "  <tbody>\n",
       "    <tr>\n",
       "      <th>0</th>\n",
       "      <td>ATX</td>\n",
       "      <td>ATX Software Testing Suite</td>\n",
       "      <td>Automated testing suite for all software produ...</td>\n",
       "      <td>This project will focus on graphical user inte...</td>\n",
       "      <td>Generates user interface events and observes t...</td>\n",
       "      <td>Automated testing suite for all software produ...</td>\n",
       "    </tr>\n",
       "    <tr>\n",
       "      <th>1</th>\n",
       "      <td>NaN</td>\n",
       "      <td>Prediction on Obesity associates with Lifestyl...</td>\n",
       "      <td>Identify the effective indicators of obesity b...</td>\n",
       "      <td>The main objective of the present study is to ...</td>\n",
       "      <td>To propose the features in determining obesity...</td>\n",
       "      <td>Identify the effective indicators of obesity b...</td>\n",
       "    </tr>\n",
       "    <tr>\n",
       "      <th>2</th>\n",
       "      <td>NaN</td>\n",
       "      <td>Mobile Advertising Platform with Designing Sui...</td>\n",
       "      <td>To improve employee communications and engagem...</td>\n",
       "      <td>The goal of the project is to create a mobile ...</td>\n",
       "      <td>to provide direct communications on employment...</td>\n",
       "      <td>To improve employee communications and engagem...</td>\n",
       "    </tr>\n",
       "  </tbody>\n",
       "</table>\n",
       "</div>"
      ],
      "text/plain": [
       "  Company Name                                              Title  \\\n",
       "0          ATX                         ATX Software Testing Suite   \n",
       "1          NaN  Prediction on Obesity associates with Lifestyl...   \n",
       "2          NaN  Mobile Advertising Platform with Designing Sui...   \n",
       "\n",
       "                                      Project brief   \\\n",
       "0  Automated testing suite for all software produ...   \n",
       "1  Identify the effective indicators of obesity b...   \n",
       "2  To improve employee communications and engagem...   \n",
       "\n",
       "                                  Project Background  \\\n",
       "0  This project will focus on graphical user inte...   \n",
       "1  The main objective of the present study is to ...   \n",
       "2  The goal of the project is to create a mobile ...   \n",
       "\n",
       "                                         Requiements  \\\n",
       "0  Generates user interface events and observes t...   \n",
       "1  To propose the features in determining obesity...   \n",
       "2  to provide direct communications on employment...   \n",
       "\n",
       "                                        Requirements  \n",
       "0  Automated testing suite for all software produ...  \n",
       "1  Identify the effective indicators of obesity b...  \n",
       "2  To improve employee communications and engagem...  "
      ]
     },
     "execution_count": 6,
     "metadata": {},
     "output_type": "execute_result"
    }
   ],
   "source": [
    "client_data.head(3)\n"
   ]
  },
  {
   "cell_type": "code",
   "execution_count": 7,
   "metadata": {},
   "outputs": [],
   "source": [
    "client_data = client_data.drop(['Requiements'],axis=1)"
   ]
  },
  {
   "cell_type": "code",
   "execution_count": 8,
   "metadata": {},
   "outputs": [],
   "source": [
    "client_data = client_data.fillna(' ')"
   ]
  },
  {
   "cell_type": "code",
   "execution_count": 9,
   "metadata": {},
   "outputs": [
    {
     "data": {
      "text/html": [
       "<div>\n",
       "<style scoped>\n",
       "    .dataframe tbody tr th:only-of-type {\n",
       "        vertical-align: middle;\n",
       "    }\n",
       "\n",
       "    .dataframe tbody tr th {\n",
       "        vertical-align: top;\n",
       "    }\n",
       "\n",
       "    .dataframe thead th {\n",
       "        text-align: right;\n",
       "    }\n",
       "</style>\n",
       "<table border=\"1\" class=\"dataframe\">\n",
       "  <thead>\n",
       "    <tr style=\"text-align: right;\">\n",
       "      <th></th>\n",
       "      <th>Company Name</th>\n",
       "      <th>Title</th>\n",
       "      <th>Project brief</th>\n",
       "      <th>Project Background</th>\n",
       "      <th>Requirements</th>\n",
       "    </tr>\n",
       "  </thead>\n",
       "  <tbody>\n",
       "    <tr>\n",
       "      <th>0</th>\n",
       "      <td>ATX</td>\n",
       "      <td>ATX Software Testing Suite</td>\n",
       "      <td>Automated testing suite for all software produ...</td>\n",
       "      <td>This project will focus on graphical user inte...</td>\n",
       "      <td>Automated testing suite for all software produ...</td>\n",
       "    </tr>\n",
       "    <tr>\n",
       "      <th>1</th>\n",
       "      <td></td>\n",
       "      <td>Prediction on Obesity associates with Lifestyl...</td>\n",
       "      <td>Identify the effective indicators of obesity b...</td>\n",
       "      <td>The main objective of the present study is to ...</td>\n",
       "      <td>Identify the effective indicators of obesity b...</td>\n",
       "    </tr>\n",
       "    <tr>\n",
       "      <th>2</th>\n",
       "      <td></td>\n",
       "      <td>Mobile Advertising Platform with Designing Sui...</td>\n",
       "      <td>To improve employee communications and engagem...</td>\n",
       "      <td>The goal of the project is to create a mobile ...</td>\n",
       "      <td>To improve employee communications and engagem...</td>\n",
       "    </tr>\n",
       "    <tr>\n",
       "      <th>3</th>\n",
       "      <td>PurposePurchase Sdh Bhd</td>\n",
       "      <td>PurposePurchase</td>\n",
       "      <td>\\ncause-related ecommerce app, as well as a pl...</td>\n",
       "      <td>PurposePurchase is an online e-commerce platfo...</td>\n",
       "      <td>\\ncause-related ecommerce app, as well as a pl...</td>\n",
       "    </tr>\n",
       "    <tr>\n",
       "      <th>4</th>\n",
       "      <td></td>\n",
       "      <td>Educational Game</td>\n",
       "      <td>The aim of this project is to create an educat...</td>\n",
       "      <td>The students will be given a concept document,...</td>\n",
       "      <td>The aim of this project is to create an educat...</td>\n",
       "    </tr>\n",
       "  </tbody>\n",
       "</table>\n",
       "</div>"
      ],
      "text/plain": [
       "              Company Name                                              Title  \\\n",
       "0                      ATX                         ATX Software Testing Suite   \n",
       "1                           Prediction on Obesity associates with Lifestyl...   \n",
       "2                           Mobile Advertising Platform with Designing Sui...   \n",
       "3  PurposePurchase Sdh Bhd                                    PurposePurchase   \n",
       "4                                                           Educational Game    \n",
       "\n",
       "                                      Project brief   \\\n",
       "0  Automated testing suite for all software produ...   \n",
       "1  Identify the effective indicators of obesity b...   \n",
       "2  To improve employee communications and engagem...   \n",
       "3  \\ncause-related ecommerce app, as well as a pl...   \n",
       "4  The aim of this project is to create an educat...   \n",
       "\n",
       "                                  Project Background  \\\n",
       "0  This project will focus on graphical user inte...   \n",
       "1  The main objective of the present study is to ...   \n",
       "2  The goal of the project is to create a mobile ...   \n",
       "3  PurposePurchase is an online e-commerce platfo...   \n",
       "4  The students will be given a concept document,...   \n",
       "\n",
       "                                        Requirements  \n",
       "0  Automated testing suite for all software produ...  \n",
       "1  Identify the effective indicators of obesity b...  \n",
       "2  To improve employee communications and engagem...  \n",
       "3  \\ncause-related ecommerce app, as well as a pl...  \n",
       "4  The aim of this project is to create an educat...  "
      ]
     },
     "execution_count": 9,
     "metadata": {},
     "output_type": "execute_result"
    }
   ],
   "source": [
    "client_data.head()"
   ]
  },
  {
   "cell_type": "code",
   "execution_count": 10,
   "metadata": {},
   "outputs": [
    {
     "data": {
      "text/plain": [
       "(25, 5)"
      ]
     },
     "execution_count": 10,
     "metadata": {},
     "output_type": "execute_result"
    }
   ],
   "source": [
    "client_data.shape"
   ]
  },
  {
   "cell_type": "code",
   "execution_count": 11,
   "metadata": {},
   "outputs": [],
   "source": [
    "stopwords_ = stopwords.words('english')\n",
    "stopword_ = set(stopwords.words('english'))\n",
    "wn = WordNetLemmatizer()"
   ]
  },
  {
   "cell_type": "code",
   "execution_count": 12,
   "metadata": {},
   "outputs": [],
   "source": [
    "# Create word tokens\n",
    "def token_txt(token):\n",
    "    return token not in stopword_ and token not in list(string.punctuation) and len(token) > 2   \n",
    "  "
   ]
  },
  {
   "cell_type": "code",
   "execution_count": 13,
   "metadata": {},
   "outputs": [],
   "source": [
    "def clean_txt(text):\n",
    "  clean_text = []\n",
    "  clean_text2 = []\n",
    "  text = re.sub(\"'\", \"\", text)\n",
    "  text = re.sub(\"(\\\\d|\\\\W)+\", \" \", text) \n",
    "  text = text.replace(\"nbsp\", \"\")\n",
    "  clean_text = [wn.lemmatize(word, pos = \"v\") for word in word_tokenize(text.lower()) if token_txt(word)]\n",
    "  clean_text2 = [word for word in clean_text if token_txt(word)]\n",
    "  return \" \".join(clean_text2)"
   ]
  },
  {
   "cell_type": "code",
   "execution_count": 14,
   "metadata": {},
   "outputs": [],
   "source": [
    "client_data['Requirements'] = client_data['Requirements'].apply(clean_txt)"
   ]
  },
  {
   "cell_type": "code",
   "execution_count": 15,
   "metadata": {},
   "outputs": [
    {
     "data": {
      "text/html": [
       "<div>\n",
       "<style scoped>\n",
       "    .dataframe tbody tr th:only-of-type {\n",
       "        vertical-align: middle;\n",
       "    }\n",
       "\n",
       "    .dataframe tbody tr th {\n",
       "        vertical-align: top;\n",
       "    }\n",
       "\n",
       "    .dataframe thead th {\n",
       "        text-align: right;\n",
       "    }\n",
       "</style>\n",
       "<table border=\"1\" class=\"dataframe\">\n",
       "  <thead>\n",
       "    <tr style=\"text-align: right;\">\n",
       "      <th></th>\n",
       "      <th>Company Name</th>\n",
       "      <th>Title</th>\n",
       "      <th>Project brief</th>\n",
       "      <th>Project Background</th>\n",
       "      <th>Requirements</th>\n",
       "    </tr>\n",
       "  </thead>\n",
       "  <tbody>\n",
       "    <tr>\n",
       "      <th>20</th>\n",
       "      <td></td>\n",
       "      <td></td>\n",
       "      <td></td>\n",
       "      <td></td>\n",
       "      <td></td>\n",
       "    </tr>\n",
       "    <tr>\n",
       "      <th>21</th>\n",
       "      <td>Agensi Pekerjaan &amp; Latihan TAPRO Sdn Bhd</td>\n",
       "      <td>(CRM) tool for recruitment.</td>\n",
       "      <td>Currently, selected information of the candida...</td>\n",
       "      <td>Aim to build a CRM tool for recruitment</td>\n",
       "      <td>currently select information candidates extrac...</td>\n",
       "    </tr>\n",
       "    <tr>\n",
       "      <th>22</th>\n",
       "      <td>People Systems Consultancy Sdn Bhd</td>\n",
       "      <td>App to build Financial Inclusion and Intellige...</td>\n",
       "      <td>Build the financial resilience and intelligenc...</td>\n",
       "      <td>seeking support and assistance to: \\n(a) build...</td>\n",
       "      <td>build financial resilience intelligence differ...</td>\n",
       "    </tr>\n",
       "    <tr>\n",
       "      <th>23</th>\n",
       "      <td></td>\n",
       "      <td>Statistics: Zero to Hundred</td>\n",
       "      <td>In the world of education, e-learning platform...</td>\n",
       "      <td>The aim of this project is to create an e-lear...</td>\n",
       "      <td>world education learn platform essential make ...</td>\n",
       "    </tr>\n",
       "    <tr>\n",
       "      <th>24</th>\n",
       "      <td></td>\n",
       "      <td>WhatsApp Messenger Forensic Analysis Based on ...</td>\n",
       "      <td></td>\n",
       "      <td></td>\n",
       "      <td></td>\n",
       "    </tr>\n",
       "  </tbody>\n",
       "</table>\n",
       "</div>"
      ],
      "text/plain": [
       "                                Company Name  \\\n",
       "20                                             \n",
       "21  Agensi Pekerjaan & Latihan TAPRO Sdn Bhd   \n",
       "22        People Systems Consultancy Sdn Bhd   \n",
       "23                                             \n",
       "24                                             \n",
       "\n",
       "                                                Title  \\\n",
       "20                                                      \n",
       "21                        (CRM) tool for recruitment.   \n",
       "22  App to build Financial Inclusion and Intellige...   \n",
       "23                       Statistics: Zero to Hundred    \n",
       "24  WhatsApp Messenger Forensic Analysis Based on ...   \n",
       "\n",
       "                                       Project brief   \\\n",
       "20                                                      \n",
       "21  Currently, selected information of the candida...   \n",
       "22  Build the financial resilience and intelligenc...   \n",
       "23  In the world of education, e-learning platform...   \n",
       "24                                                      \n",
       "\n",
       "                                   Project Background  \\\n",
       "20                                                      \n",
       "21            Aim to build a CRM tool for recruitment   \n",
       "22  seeking support and assistance to: \\n(a) build...   \n",
       "23  The aim of this project is to create an e-lear...   \n",
       "24                                                      \n",
       "\n",
       "                                         Requirements  \n",
       "20                                                     \n",
       "21  currently select information candidates extrac...  \n",
       "22  build financial resilience intelligence differ...  \n",
       "23  world education learn platform essential make ...  \n",
       "24                                                     "
      ]
     },
     "execution_count": 15,
     "metadata": {},
     "output_type": "execute_result"
    }
   ],
   "source": [
    "client_data.tail()"
   ]
  },
  {
   "cell_type": "markdown",
   "metadata": {},
   "source": [
    "## Student Group corpus"
   ]
  },
  {
   "cell_type": "code",
   "execution_count": 16,
   "metadata": {},
   "outputs": [],
   "source": [
    "student_group_data['group_details '] = student_group_data['group_details '].apply(clean_txt)"
   ]
  },
  {
   "cell_type": "code",
   "execution_count": 17,
   "metadata": {},
   "outputs": [
    {
     "data": {
      "text/plain": [
       "Index(['group_id', 'group_details '], dtype='object')"
      ]
     },
     "execution_count": 17,
     "metadata": {},
     "output_type": "execute_result"
    }
   ],
   "source": [
    "## list column names in dataframe student_group_data ##\n",
    "\n",
    "student_group_data.columns\n",
    "\n"
   ]
  },
  {
   "cell_type": "markdown",
   "metadata": {},
   "source": [
    "# Term Ferquency - Inverse Document Frequency"
   ]
  },
  {
   "cell_type": "code",
   "execution_count": 18,
   "metadata": {},
   "outputs": [
    {
     "data": {
      "text/plain": [
       "<25x626 sparse matrix of type '<class 'numpy.float64'>'\n",
       "\twith 921 stored elements in Compressed Sparse Row format>"
      ]
     },
     "execution_count": 18,
     "metadata": {},
     "output_type": "execute_result"
    }
   ],
   "source": [
    "tfidf_vect = TfidfVectorizer()\n",
    "\n",
    "# Fitting and transforming the vector\n",
    "tfidf_comb = tfidf_vect.fit_transform((client_data['Requirements'])) \n",
    "tfidf_comb"
   ]
  },
  {
   "cell_type": "code",
   "execution_count": 19,
   "metadata": {},
   "outputs": [],
   "source": [
    "user = 1\n",
    "grp_index = np.where(student_group_data['group_id'] == user)[0][0]"
   ]
  },
  {
   "cell_type": "code",
   "execution_count": 20,
   "metadata": {},
   "outputs": [
    {
     "data": {
      "text/html": [
       "<div>\n",
       "<style scoped>\n",
       "    .dataframe tbody tr th:only-of-type {\n",
       "        vertical-align: middle;\n",
       "    }\n",
       "\n",
       "    .dataframe tbody tr th {\n",
       "        vertical-align: top;\n",
       "    }\n",
       "\n",
       "    .dataframe thead th {\n",
       "        text-align: right;\n",
       "    }\n",
       "</style>\n",
       "<table border=\"1\" class=\"dataframe\">\n",
       "  <thead>\n",
       "    <tr style=\"text-align: right;\">\n",
       "      <th></th>\n",
       "      <th>group_id</th>\n",
       "      <th>group_details</th>\n",
       "    </tr>\n",
       "  </thead>\n",
       "  <tbody>\n",
       "    <tr>\n",
       "      <th>0</th>\n",
       "      <td>1</td>\n",
       "      <td>data science artificial intelligence machine l...</td>\n",
       "    </tr>\n",
       "  </tbody>\n",
       "</table>\n",
       "</div>"
      ],
      "text/plain": [
       "   group_id                                     group_details \n",
       "0         1  data science artificial intelligence machine l..."
      ]
     },
     "execution_count": 20,
     "metadata": {},
     "output_type": "execute_result"
    }
   ],
   "source": [
    "student_group_data = student_group_data.iloc[[grp_index]]\n",
    "student_group_data"
   ]
  },
  {
   "cell_type": "code",
   "execution_count": 22,
   "metadata": {},
   "outputs": [
    {
     "data": {
      "text/plain": [
       "[array([[0.04122973]]),\n",
       " array([[0.]]),\n",
       " array([[0.]]),\n",
       " array([[0.]]),\n",
       " array([[0.32713553]]),\n",
       " array([[0.01863]]),\n",
       " array([[0.04414271]]),\n",
       " array([[0.]]),\n",
       " array([[0.13394251]]),\n",
       " array([[0.03807897]]),\n",
       " array([[0.09514322]]),\n",
       " array([[0.]]),\n",
       " array([[0.]]),\n",
       " array([[0.]]),\n",
       " array([[0.]]),\n",
       " array([[0.]]),\n",
       " array([[0.15403788]]),\n",
       " array([[0.25628427]]),\n",
       " array([[0.]]),\n",
       " array([[0.]]),\n",
       " array([[0.]]),\n",
       " array([[0.]]),\n",
       " array([[0.06743477]]),\n",
       " array([[0.18286495]]),\n",
       " array([[0.]])]"
      ]
     },
     "execution_count": 22,
     "metadata": {},
     "output_type": "execute_result"
    }
   ],
   "source": [
    "stud_group_rec = tfidf_vect.transform(student_group_data['group_details '])\n",
    "cos_stud_group_rec = list(map(lambda x: cosine_similarity(stud_group_rec, x), tfidf_comb))\n",
    "cos_stud_group_rec"
   ]
  },
  {
   "cell_type": "code",
   "execution_count": 23,
   "metadata": {},
   "outputs": [],
   "source": [
    "def get_recommendation(top, client_data, scores):\n",
    "  recommendation = pd.DataFrame(columns = ['Group', 'Title',  'Company Name', 'Score'])\n",
    "  count = 0\n",
    "  for i in top:\n",
    "      recommendation.at[count, 'Group'] = user\n",
    "      recommendation.at[count, 'Title'] = client_data['Title'][i]\n",
    "      recommendation.at[count, 'Company Name'] = client_data['Company Name'][i]\n",
    "      recommendation.at[count, 'Score'] =  scores[count]\n",
    "      count += 1\n",
    "  return recommendation"
   ]
  },
  {
   "cell_type": "code",
   "execution_count": 26,
   "metadata": {},
   "outputs": [
    {
     "data": {
      "text/plain": [
       "[4, 17, 23, 16, 8, 10, 22, 6, 0, 9]"
      ]
     },
     "execution_count": 26,
     "metadata": {},
     "output_type": "execute_result"
    }
   ],
   "source": [
    "top10_stud_group_rec = sorted(range(len(cos_stud_group_rec)), key = lambda i: cos_stud_group_rec[i], reverse = True)[:10]\n",
    "top10_stud_group_rec "
   ]
  },
  {
   "cell_type": "code",
   "execution_count": 27,
   "metadata": {},
   "outputs": [
    {
     "data": {
      "text/plain": [
       "[0.3271355309562686,\n",
       " 0.2562842657573386,\n",
       " 0.1828649456114235,\n",
       " 0.1540378795303859,\n",
       " 0.13394251295991239,\n",
       " 0.09514321719145973,\n",
       " 0.06743477176781525,\n",
       " 0.04414271265454619,\n",
       " 0.04122973019904442,\n",
       " 0.03807896668505875]"
      ]
     },
     "execution_count": 27,
     "metadata": {},
     "output_type": "execute_result"
    }
   ],
   "source": [
    "list_scores = [cos_stud_group_rec[i] for i in top10_stud_group_rec][i][0][0] for i in top10_stud_group_rec]\n",
    "list_scores"
   ]
  },
  {
   "cell_type": "code",
   "execution_count": 29,
   "metadata": {},
   "outputs": [
    {
     "data": {
      "text/html": [
       "<div>\n",
       "<style scoped>\n",
       "    .dataframe tbody tr th:only-of-type {\n",
       "        vertical-align: middle;\n",
       "    }\n",
       "\n",
       "    .dataframe tbody tr th {\n",
       "        vertical-align: top;\n",
       "    }\n",
       "\n",
       "    .dataframe thead th {\n",
       "        text-align: right;\n",
       "    }\n",
       "</style>\n",
       "<table border=\"1\" class=\"dataframe\">\n",
       "  <thead>\n",
       "    <tr style=\"text-align: right;\">\n",
       "      <th></th>\n",
       "      <th>Group</th>\n",
       "      <th>Title</th>\n",
       "      <th>Company Name</th>\n",
       "      <th>Score</th>\n",
       "    </tr>\n",
       "  </thead>\n",
       "  <tbody>\n",
       "    <tr>\n",
       "      <th>0</th>\n",
       "      <td>1</td>\n",
       "      <td>Educational Game</td>\n",
       "      <td></td>\n",
       "      <td>0.327136</td>\n",
       "    </tr>\n",
       "    <tr>\n",
       "      <th>1</th>\n",
       "      <td>1</td>\n",
       "      <td>Cyber Threat Intelligence Mining Model</td>\n",
       "      <td></td>\n",
       "      <td>0.256284</td>\n",
       "    </tr>\n",
       "    <tr>\n",
       "      <th>2</th>\n",
       "      <td>1</td>\n",
       "      <td>Statistics: Zero to Hundred</td>\n",
       "      <td></td>\n",
       "      <td>0.182865</td>\n",
       "    </tr>\n",
       "    <tr>\n",
       "      <th>3</th>\n",
       "      <td>1</td>\n",
       "      <td>Hilti Global Territory Management Solution</td>\n",
       "      <td>Hilti</td>\n",
       "      <td>0.154038</td>\n",
       "    </tr>\n",
       "    <tr>\n",
       "      <th>4</th>\n",
       "      <td>1</td>\n",
       "      <td>\\nNodejs Port of ATX Wallet System\\n</td>\n",
       "      <td>ATX / MSC</td>\n",
       "      <td>0.133943</td>\n",
       "    </tr>\n",
       "    <tr>\n",
       "      <th>5</th>\n",
       "      <td>1</td>\n",
       "      <td>Online Assessment in Education System</td>\n",
       "      <td></td>\n",
       "      <td>0.095143</td>\n",
       "    </tr>\n",
       "    <tr>\n",
       "      <th>6</th>\n",
       "      <td>1</td>\n",
       "      <td>App to build Financial Inclusion and Intellige...</td>\n",
       "      <td>People Systems Consultancy Sdn Bhd</td>\n",
       "      <td>0.067435</td>\n",
       "    </tr>\n",
       "    <tr>\n",
       "      <th>7</th>\n",
       "      <td>1</td>\n",
       "      <td>Content Management System in an IOT environment</td>\n",
       "      <td>Coinnov8 Web Portal</td>\n",
       "      <td>0.044143</td>\n",
       "    </tr>\n",
       "    <tr>\n",
       "      <th>8</th>\n",
       "      <td>1</td>\n",
       "      <td>ATX Software Testing Suite</td>\n",
       "      <td>ATX</td>\n",
       "      <td>0.04123</td>\n",
       "    </tr>\n",
       "    <tr>\n",
       "      <th>9</th>\n",
       "      <td>1</td>\n",
       "      <td>Nodejs Port of Mypospay Backend</td>\n",
       "      <td>ATX / MSC</td>\n",
       "      <td>0.038079</td>\n",
       "    </tr>\n",
       "  </tbody>\n",
       "</table>\n",
       "</div>"
      ],
      "text/plain": [
       "  Group                                              Title  \\\n",
       "0     1                                  Educational Game    \n",
       "1     1             Cyber Threat Intelligence Mining Model   \n",
       "2     1                       Statistics: Zero to Hundred    \n",
       "3     1         Hilti Global Territory Management Solution   \n",
       "4     1               \\nNodejs Port of ATX Wallet System\\n   \n",
       "5     1             Online Assessment in Education System    \n",
       "6     1  App to build Financial Inclusion and Intellige...   \n",
       "7     1   Content Management System in an IOT environment    \n",
       "8     1                         ATX Software Testing Suite   \n",
       "9     1                    Nodejs Port of Mypospay Backend   \n",
       "\n",
       "                         Company Name     Score  \n",
       "0                                      0.327136  \n",
       "1                                      0.256284  \n",
       "2                                      0.182865  \n",
       "3                               Hilti  0.154038  \n",
       "4                          ATX / MSC   0.133943  \n",
       "5                                      0.095143  \n",
       "6  People Systems Consultancy Sdn Bhd  0.067435  \n",
       "7                 Coinnov8 Web Portal  0.044143  \n",
       "8                                 ATX   0.04123  \n",
       "9                          ATX / MSC   0.038079  "
      ]
     },
     "execution_count": 29,
     "metadata": {},
     "output_type": "execute_result"
    }
   ],
   "source": [
    "get_recommendation(top10_stud_group_rec, client_data, list_scores)"
   ]
  },
  {
   "cell_type": "markdown",
   "metadata": {},
   "source": [
    "#  Top Recommendations with Count Vectorizer"
   ]
  },
  {
   "cell_type": "code",
   "execution_count": 30,
   "metadata": {},
   "outputs": [
    {
     "data": {
      "text/plain": [
       "<25x626 sparse matrix of type '<class 'numpy.int64'>'\n",
       "\twith 921 stored elements in Compressed Sparse Row format>"
      ]
     },
     "execution_count": 30,
     "metadata": {},
     "output_type": "execute_result"
    }
   ],
   "source": [
    "count_vect = CountVectorizer()\n",
    "\n",
    "# Fitting and transforming the vectorizer\n",
    "count_comb = count_vect.fit_transform((client_data['Requirements'])) #fitting and transforming the vector\n",
    "count_comb"
   ]
  },
  {
   "cell_type": "code",
   "execution_count": 31,
   "metadata": {},
   "outputs": [],
   "source": [
    "student_group_data = count_vect.transform(student_group_data['group_details '])\n",
    "cv_cos_stud_data = list(map(lambda x: cosine_similarity(student_group_data, x), count_comb))"
   ]
  },
  {
   "cell_type": "code",
   "execution_count": 32,
   "metadata": {},
   "outputs": [
    {
     "data": {
      "text/html": [
       "<div>\n",
       "<style scoped>\n",
       "    .dataframe tbody tr th:only-of-type {\n",
       "        vertical-align: middle;\n",
       "    }\n",
       "\n",
       "    .dataframe tbody tr th {\n",
       "        vertical-align: top;\n",
       "    }\n",
       "\n",
       "    .dataframe thead th {\n",
       "        text-align: right;\n",
       "    }\n",
       "</style>\n",
       "<table border=\"1\" class=\"dataframe\">\n",
       "  <thead>\n",
       "    <tr style=\"text-align: right;\">\n",
       "      <th></th>\n",
       "      <th>Group</th>\n",
       "      <th>Title</th>\n",
       "      <th>Company Name</th>\n",
       "      <th>Score</th>\n",
       "    </tr>\n",
       "  </thead>\n",
       "  <tbody>\n",
       "    <tr>\n",
       "      <th>0</th>\n",
       "      <td>1</td>\n",
       "      <td>Educational Game</td>\n",
       "      <td></td>\n",
       "      <td>0.387169</td>\n",
       "    </tr>\n",
       "    <tr>\n",
       "      <th>1</th>\n",
       "      <td>1</td>\n",
       "      <td>Cyber Threat Intelligence Mining Model</td>\n",
       "      <td></td>\n",
       "      <td>0.285003</td>\n",
       "    </tr>\n",
       "    <tr>\n",
       "      <th>2</th>\n",
       "      <td>1</td>\n",
       "      <td>Statistics: Zero to Hundred</td>\n",
       "      <td></td>\n",
       "      <td>0.210363</td>\n",
       "    </tr>\n",
       "    <tr>\n",
       "      <th>3</th>\n",
       "      <td>1</td>\n",
       "      <td>Hilti Global Territory Management Solution</td>\n",
       "      <td>Hilti</td>\n",
       "      <td>0.16462</td>\n",
       "    </tr>\n",
       "    <tr>\n",
       "      <th>4</th>\n",
       "      <td>1</td>\n",
       "      <td>\\nNodejs Port of ATX Wallet System\\n</td>\n",
       "      <td>ATX / MSC</td>\n",
       "      <td>0.152008</td>\n",
       "    </tr>\n",
       "    <tr>\n",
       "      <th>5</th>\n",
       "      <td>1</td>\n",
       "      <td>Online Assessment in Education System</td>\n",
       "      <td></td>\n",
       "      <td>0.119808</td>\n",
       "    </tr>\n",
       "    <tr>\n",
       "      <th>6</th>\n",
       "      <td>1</td>\n",
       "      <td>App to build Financial Inclusion and Intellige...</td>\n",
       "      <td>People Systems Consultancy Sdn Bhd</td>\n",
       "      <td>0.065033</td>\n",
       "    </tr>\n",
       "    <tr>\n",
       "      <th>7</th>\n",
       "      <td>1</td>\n",
       "      <td>Nodejs Port of Mypospay Backend</td>\n",
       "      <td>ATX / MSC</td>\n",
       "      <td>0.056911</td>\n",
       "    </tr>\n",
       "    <tr>\n",
       "      <th>8</th>\n",
       "      <td>1</td>\n",
       "      <td>Content Management System in an IOT environment</td>\n",
       "      <td>Coinnov8 Web Portal</td>\n",
       "      <td>0.056478</td>\n",
       "    </tr>\n",
       "    <tr>\n",
       "      <th>9</th>\n",
       "      <td>1</td>\n",
       "      <td>ATX Software Testing Suite</td>\n",
       "      <td>ATX</td>\n",
       "      <td>0.051299</td>\n",
       "    </tr>\n",
       "  </tbody>\n",
       "</table>\n",
       "</div>"
      ],
      "text/plain": [
       "  Group                                              Title  \\\n",
       "0     1                                  Educational Game    \n",
       "1     1             Cyber Threat Intelligence Mining Model   \n",
       "2     1                       Statistics: Zero to Hundred    \n",
       "3     1         Hilti Global Territory Management Solution   \n",
       "4     1               \\nNodejs Port of ATX Wallet System\\n   \n",
       "5     1             Online Assessment in Education System    \n",
       "6     1  App to build Financial Inclusion and Intellige...   \n",
       "7     1                    Nodejs Port of Mypospay Backend   \n",
       "8     1   Content Management System in an IOT environment    \n",
       "9     1                         ATX Software Testing Suite   \n",
       "\n",
       "                         Company Name     Score  \n",
       "0                                      0.387169  \n",
       "1                                      0.285003  \n",
       "2                                      0.210363  \n",
       "3                               Hilti   0.16462  \n",
       "4                          ATX / MSC   0.152008  \n",
       "5                                      0.119808  \n",
       "6  People Systems Consultancy Sdn Bhd  0.065033  \n",
       "7                          ATX / MSC   0.056911  \n",
       "8                 Coinnov8 Web Portal  0.056478  \n",
       "9                                 ATX  0.051299  "
      ]
     },
     "execution_count": 32,
     "metadata": {},
     "output_type": "execute_result"
    }
   ],
   "source": [
    "top10_cv_count = sorted(range(len(cv_cos_stud_data)), key = lambda i: cv_cos_stud_data[i], reverse = True)[:10]\n",
    "list_cv_count = [cv_cos_stud_data[i][0][0] for i in top10_cv_count]\n",
    "get_recommendation(top10_cv_count, client_data, list_cv_count)"
   ]
  },
  {
   "cell_type": "markdown",
   "metadata": {},
   "source": [
    "# Top Recommendations using KNN"
   ]
  },
  {
   "cell_type": "code",
   "execution_count": 33,
   "metadata": {},
   "outputs": [
    {
     "data": {
      "text/plain": [
       "NearestNeighbors(n_neighbors=11)"
      ]
     },
     "execution_count": 33,
     "metadata": {},
     "output_type": "execute_result"
    }
   ],
   "source": [
    "n_neighbors = 11\n",
    "KNN = NearestNeighbors(n_neighbors = n_neighbors, p = 2)\n",
    "KNN.fit(tfidf_comb)"
   ]
  },
  {
   "cell_type": "code",
   "execution_count": 36,
   "metadata": {},
   "outputs": [],
   "source": [
    "knn_rec = KNN.kneighbors(stud_group_rec\n",
    "                             , return_distance = True) "
   ]
  },
  {
   "cell_type": "code",
   "execution_count": 37,
   "metadata": {},
   "outputs": [
    {
     "data": {
      "text/plain": [
       "array([1.        , 1.        , 1.        , 1.        , 1.        ,\n",
       "       1.16005558, 1.219603  , 1.27838574, 1.30073988, 1.31609839])"
      ]
     },
     "execution_count": 37,
     "metadata": {},
     "output_type": "execute_result"
    }
   ],
   "source": [
    "knn_rec[0][0][1:]"
   ]
  },
  {
   "cell_type": "code",
   "execution_count": 38,
   "metadata": {},
   "outputs": [
    {
     "data": {
      "text/html": [
       "<div>\n",
       "<style scoped>\n",
       "    .dataframe tbody tr th:only-of-type {\n",
       "        vertical-align: middle;\n",
       "    }\n",
       "\n",
       "    .dataframe tbody tr th {\n",
       "        vertical-align: top;\n",
       "    }\n",
       "\n",
       "    .dataframe thead th {\n",
       "        text-align: right;\n",
       "    }\n",
       "</style>\n",
       "<table border=\"1\" class=\"dataframe\">\n",
       "  <thead>\n",
       "    <tr style=\"text-align: right;\">\n",
       "      <th></th>\n",
       "      <th>Group</th>\n",
       "      <th>Title</th>\n",
       "      <th>Company Name</th>\n",
       "      <th>Score</th>\n",
       "    </tr>\n",
       "  </thead>\n",
       "  <tbody>\n",
       "    <tr>\n",
       "      <th>0</th>\n",
       "      <td>1</td>\n",
       "      <td></td>\n",
       "      <td></td>\n",
       "      <td>1.0</td>\n",
       "    </tr>\n",
       "    <tr>\n",
       "      <th>1</th>\n",
       "      <td>1</td>\n",
       "      <td></td>\n",
       "      <td></td>\n",
       "      <td>1.0</td>\n",
       "    </tr>\n",
       "    <tr>\n",
       "      <th>2</th>\n",
       "      <td>1</td>\n",
       "      <td></td>\n",
       "      <td></td>\n",
       "      <td>1.0</td>\n",
       "    </tr>\n",
       "    <tr>\n",
       "      <th>3</th>\n",
       "      <td>1</td>\n",
       "      <td></td>\n",
       "      <td></td>\n",
       "      <td>1.0</td>\n",
       "    </tr>\n",
       "    <tr>\n",
       "      <th>4</th>\n",
       "      <td>1</td>\n",
       "      <td>WhatsApp Messenger Forensic Analysis Based on ...</td>\n",
       "      <td></td>\n",
       "      <td>1.0</td>\n",
       "    </tr>\n",
       "    <tr>\n",
       "      <th>5</th>\n",
       "      <td>1</td>\n",
       "      <td>Educational Game</td>\n",
       "      <td></td>\n",
       "      <td>1.160056</td>\n",
       "    </tr>\n",
       "    <tr>\n",
       "      <th>6</th>\n",
       "      <td>1</td>\n",
       "      <td>Cyber Threat Intelligence Mining Model</td>\n",
       "      <td></td>\n",
       "      <td>1.219603</td>\n",
       "    </tr>\n",
       "    <tr>\n",
       "      <th>7</th>\n",
       "      <td>1</td>\n",
       "      <td>Statistics: Zero to Hundred</td>\n",
       "      <td></td>\n",
       "      <td>1.278386</td>\n",
       "    </tr>\n",
       "    <tr>\n",
       "      <th>8</th>\n",
       "      <td>1</td>\n",
       "      <td>Hilti Global Territory Management Solution</td>\n",
       "      <td>Hilti</td>\n",
       "      <td>1.30074</td>\n",
       "    </tr>\n",
       "    <tr>\n",
       "      <th>9</th>\n",
       "      <td>1</td>\n",
       "      <td>\\nNodejs Port of ATX Wallet System\\n</td>\n",
       "      <td>ATX / MSC</td>\n",
       "      <td>1.316098</td>\n",
       "    </tr>\n",
       "  </tbody>\n",
       "</table>\n",
       "</div>"
      ],
      "text/plain": [
       "  Group                                              Title Company Name  \\\n",
       "0     1                                                                   \n",
       "1     1                                                                   \n",
       "2     1                                                                   \n",
       "3     1                                                                   \n",
       "4     1  WhatsApp Messenger Forensic Analysis Based on ...                \n",
       "5     1                                  Educational Game                 \n",
       "6     1             Cyber Threat Intelligence Mining Model                \n",
       "7     1                       Statistics: Zero to Hundred                 \n",
       "8     1         Hilti Global Territory Management Solution        Hilti   \n",
       "9     1               \\nNodejs Port of ATX Wallet System\\n   ATX / MSC    \n",
       "\n",
       "      Score  \n",
       "0       1.0  \n",
       "1       1.0  \n",
       "2       1.0  \n",
       "3       1.0  \n",
       "4       1.0  \n",
       "5  1.160056  \n",
       "6  1.219603  \n",
       "7  1.278386  \n",
       "8   1.30074  \n",
       "9  1.316098  "
      ]
     },
     "execution_count": 38,
     "metadata": {},
     "output_type": "execute_result"
    }
   ],
   "source": [
    "top10_rec_knn = knn_rec[1][0][1:]\n",
    "index_score_knn = knn_rec[0][0][1:]\n",
    "\n",
    "get_recommendation(top10_rec_knn, client_data, index_score_knn)"
   ]
  }
 ],
 "metadata": {
  "kernelspec": {
   "display_name": "CPRS",
   "language": "python",
   "name": "cprs"
  },
  "language_info": {
   "codemirror_mode": {
    "name": "ipython",
    "version": 3
   },
   "file_extension": ".py",
   "mimetype": "text/x-python",
   "name": "python",
   "nbconvert_exporter": "python",
   "pygments_lexer": "ipython3",
   "version": "3.8.10"
  }
 },
 "nbformat": 4,
 "nbformat_minor": 4
}
